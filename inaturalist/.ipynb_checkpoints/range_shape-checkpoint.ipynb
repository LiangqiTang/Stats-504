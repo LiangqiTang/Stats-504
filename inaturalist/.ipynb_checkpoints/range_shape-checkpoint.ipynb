{
 "cells": [
  {
   "cell_type": "markdown",
   "id": "0",
   "metadata": {},
   "source": [
    "## Shape analysis of species ranges\n",
    "\n",
    "In this notebook we consider some spatial properties of the ranges of each species of plant in a taxonomic class. The observations of each species can be considered as a spatial point set. The methods used here are spatial descriptive statistics."
   ]
  },
  {
   "cell_type": "code",
   "execution_count": null,
   "id": "1",
   "metadata": {},
   "outputs": [],
   "source": [
    "import numpy as np\n",
    "import pandas as pd\n",
    "import statsmodels.api as sm\n",
    "from pathlib import Path\n",
    "import cartopy.crs as ccrs\n",
    "from statsmodels.nonparametric.smoothers_lowess import lowess\n",
    "import matplotlib.pyplot as plt\n",
    "from sklearn.metrics.pairwise import haversine_distances\n",
    "from scipy.spatial import distance_matrix"
   ]
  },
  {
   "cell_type": "markdown",
   "id": "2",
   "metadata": {},
   "source": [
    "Select a taxonomic class for analysis."
   ]
  },
  {
   "cell_type": "code",
   "execution_count": null,
   "id": "3",
   "metadata": {},
   "outputs": [],
   "source": [
    "#pclass = \"Pinopsida\"\n",
    "pclass = \"Polypodiopsida\""
   ]
  },
  {
   "cell_type": "markdown",
   "id": "4",
   "metadata": {},
   "source": [
    "These are some geophysical constants that we will need below."
   ]
  },
  {
   "cell_type": "code",
   "execution_count": null,
   "id": "5",
   "metadata": {},
   "outputs": [],
   "source": [
    "earth_radius_m = 6371000\n",
    "earth_radius_km = earth_radius_m / 1000\n",
    "earth_circumference_km = 40075\n",
    "land_area = 149 * 10^6"
   ]
  },
  {
   "cell_type": "code",
   "execution_count": null,
   "id": "6",
   "metadata": {},
   "outputs": [],
   "source": [
    "pa = Path(\"/home/kshedden/data/Teaching/inaturalist\")\n",
    "fn = pa / (\"Plantae_%s.csv.gz\" % pclass)"
   ]
  },
  {
   "cell_type": "code",
   "execution_count": null,
   "id": "7",
   "metadata": {},
   "outputs": [],
   "source": [
    "v = [\"species\", \"decimalLatitude\", \"decimalLongitude\", \"eventDate\"]\n",
    "df = pd.read_csv(fn, parse_dates=[\"eventDate\"], usecols=v)\n",
    "df = df.dropna()\n",
    "df = df.query(\"eventDate >= 20150101\")\n",
    "df.head()"
   ]
  },
  {
   "cell_type": "markdown",
   "id": "8",
   "metadata": {},
   "source": [
    "For this analysis we will only consider species with at least 1000 observations."
   ]
  },
  {
   "cell_type": "code",
   "execution_count": null,
   "id": "9",
   "metadata": {},
   "outputs": [],
   "source": [
    "df[\"n\"] = df.groupby(\"species\").transform(\"size\")\n",
    "df = df.query(\"n>=1000\")"
   ]
  },
  {
   "cell_type": "markdown",
   "id": "10",
   "metadata": {},
   "source": [
    "To visualize the results of this analysis, we will make maps showing the locations of species with the least and greatest levels of spatial dispersion."
   ]
  },
  {
   "cell_type": "code",
   "execution_count": null,
   "id": "11",
   "metadata": {},
   "outputs": [],
   "source": [
    "def map_species(sn):\n",
    "    dx = df.query(\"species=='{}'\".format(sn))\n",
    "    plt.figure()\n",
    "    plt.figure(figsize=(9, 7.25))\n",
    "    ax = plt.axes([0.05, 0.05, 0.84, 0.88], projection=ccrs.PlateCarree(central_longitude=180))\n",
    "    ax.coastlines()\n",
    "    ax.set_extent([0, 310, -60, 80])\n",
    "    \n",
    "    plt.scatter(dx[\"decimalLongitude\"], dx[\"decimalLatitude\"], s=8, alpha=0.1, color=\"red\", \n",
    "                transform=ccrs.Geodetic(), rasterized=True)\n",
    "    plt.title(sn)\n",
    "    plt.show()"
   ]
  },
  {
   "cell_type": "markdown",
   "id": "12",
   "metadata": {},
   "source": [
    "To calculate distances below, we will need to have the latitude and longitude of each observation in radians."
   ]
  },
  {
   "cell_type": "code",
   "execution_count": null,
   "id": "13",
   "metadata": {},
   "outputs": [],
   "source": [
    "df[\"lonrad\"] = np.pi * df[\"decimalLongitude\"] / 180\n",
    "df[\"latrad\"] = np.pi * df[\"decimalLatitude\"] / 180"
   ]
  },
  {
   "cell_type": "markdown",
   "id": "14",
   "metadata": {},
   "source": [
    "We will be calculating some circular statistics below, for which we need these quantities."
   ]
  },
  {
   "cell_type": "code",
   "execution_count": null,
   "id": "15",
   "metadata": {},
   "outputs": [],
   "source": [
    "df[\"lonrad_sin\"] = np.sin(df[\"lonrad\"])\n",
    "df[\"lonrad_cos\"] = np.cos(df[\"lonrad\"])"
   ]
  },
  {
   "cell_type": "markdown",
   "id": "16",
   "metadata": {},
   "source": [
    "The circular mean and circular variance are based on these means:"
   ]
  },
  {
   "cell_type": "code",
   "execution_count": null,
   "id": "17",
   "metadata": {},
   "outputs": [],
   "source": [
    "df[\"lonrad_cos_mean\"] = df.groupby(\"species\")[\"lonrad_cos\"].transform(np.mean)\n",
    "df[\"lonrad_sin_mean\"] = df.groupby(\"species\")[\"lonrad_sin\"].transform(np.mean)"
   ]
  },
  {
   "cell_type": "markdown",
   "id": "18",
   "metadata": {},
   "source": [
    "Below we calculate the circular variances of the longitude values for each species."
   ]
  },
  {
   "cell_type": "code",
   "execution_count": null,
   "id": "19",
   "metadata": {},
   "outputs": [],
   "source": [
    "df[\"lon_var\"] = 1 - np.sqrt(df[\"lonrad_cos_mean\"]**2 + df[\"lonrad_sin_mean\"]**2)"
   ]
  },
  {
   "cell_type": "markdown",
   "id": "20",
   "metadata": {},
   "source": [
    "The histogram below shows a strong bimodal pattern in the circular variances."
   ]
  },
  {
   "cell_type": "code",
   "execution_count": null,
   "id": "21",
   "metadata": {},
   "outputs": [],
   "source": [
    "dd = df.groupby(\"species\")[\"lon_var\"].first()\n",
    "plt.hist(dd)\n",
    "plt.xlabel(\"Circular variance of longitudes\")\n",
    "plt.ylabel(\"Frequency\");"
   ]
  },
  {
   "cell_type": "markdown",
   "id": "22",
   "metadata": {},
   "source": [
    "The maps below reveal that the species with small longitudinal variances are limited to a single island."
   ]
  },
  {
   "cell_type": "code",
   "execution_count": null,
   "id": "23",
   "metadata": {},
   "outputs": [],
   "source": [
    "dd = dd.sort_values()\n",
    "\n",
    "for j in [0, 1, -2, -1]:\n",
    "    sn = dd.index[j]\n",
    "    map_species(sn)"
   ]
  },
  {
   "cell_type": "markdown",
   "id": "24",
   "metadata": {},
   "source": [
    "Below we calculate the median pairwise distance between pairs of observations of each species.  This is one of the most basic measures of spatial dispersion."
   ]
  },
  {
   "cell_type": "code",
   "execution_count": null,
   "id": "25",
   "metadata": {},
   "outputs": [],
   "source": [
    "def f(dx):\n",
    "    n = dx.shape[0]\n",
    "    m = min(n, 1000)\n",
    "    ii = np.random.choice(n, m)\n",
    "    di = earth_radius_km * haversine_distances(dx[[\"latrad\", \"lonrad\"]].iloc[ii, :])\n",
    "    ii = np.tril_indices(m)\n",
    "    return pd.Series({\"n\": n, \"med_dist\": np.median(di[ii])})\n",
    "\n",
    "dd = df.groupby(\"species\").apply(f)"
   ]
  },
  {
   "cell_type": "markdown",
   "id": "26",
   "metadata": {},
   "source": []
  },
  {
   "cell_type": "code",
   "execution_count": null,
   "id": "27",
   "metadata": {},
   "outputs": [],
   "source": [
    "dd = dd.sort_values(by=\"med_dist\")\n",
    "\n",
    "for i in [0, 1, -2, -1]:\n",
    "    sn = dd.index[i]\n",
    "    map_species(sn)"
   ]
  },
  {
   "cell_type": "markdown",
   "id": "28",
   "metadata": {},
   "source": [
    "Below we evaluate the emirical CDF (eCDF) of pairwise distances within a species.  The functions are evaluated on a grid of points (defined below as 'dgr'), so that we can analyze them as fixed-length vectors."
   ]
  },
  {
   "cell_type": "code",
   "execution_count": null,
   "id": "29",
   "metadata": {},
   "outputs": [],
   "source": [
    "dgr = np.square(np.linspace(1, np.sqrt(earth_circumference_km/4), 100))\n",
    "\n",
    "def f(dx):\n",
    "    n = dx.shape[0]\n",
    "    m = min(n, 1000)\n",
    "    ii = np.random.choice(n, m)\n",
    "    di = earth_radius_km * haversine_distances(dx[[\"latrad\", \"lonrad\"]].iloc[ii, :])\n",
    "    ii = np.tril_indices(m)\n",
    "    dv = di[ii]\n",
    "    dv.sort()\n",
    "    ii = np.searchsorted(dv, dgr)\n",
    "    return pd.Series({\"n\": n, \"ecdf\": ii/len(dv)})\n",
    "\n",
    "dd = df.groupby(\"species\").apply(f)"
   ]
  },
  {
   "cell_type": "markdown",
   "id": "30",
   "metadata": {},
   "source": [
    "Below we plot the empirical CDFs of pairwise distances for a random subset of the species."
   ]
  },
  {
   "cell_type": "code",
   "execution_count": null,
   "id": "31",
   "metadata": {},
   "outputs": [],
   "source": [
    "for j in np.random.choice(dd.shape[0], 5):\n",
    "    plt.plot(dgr, dd[\"ecdf\"].iloc[j], \"-\")\n",
    "    plt.grid(True)\n",
    "plt.xlabel(\"Distance\")\n",
    "plt.ylabel(\"Fraction of pairwise distances\")"
   ]
  },
  {
   "cell_type": "markdown",
   "id": "32",
   "metadata": {},
   "source": [
    "The [correlation dimension](https://en.wikipedia.org/wiki/Correlation_dimension) posits that the fraction $p(\\epsilon)$ of pairwise distances that are less than a value $\\epsilon > 0$ follow the power law $p(\\epsilon) \\sim \\epsilon^\\nu$ for small $\\epsilon$.  The value of $\\nu$ is the correlation dimension.  "
   ]
  },
  {
   "cell_type": "code",
   "execution_count": null,
   "id": "33",
   "metadata": {},
   "outputs": [],
   "source": [
    "for j in np.random.choice(dd.shape[0], 5):\n",
    "    plt.plot(np.log(dgr), np.log(dd[\"ecdf\"].iloc[j]), \"-o\")\n",
    "plt.xlabel(\"Log radius\")\n",
    "plt.ylabel(\"Log fraction of pairwise distances\")"
   ]
  },
  {
   "cell_type": "markdown",
   "id": "34",
   "metadata": {},
   "source": [
    "Below we estimate the correlation dimension using least squares regression in log/log space.  Most of the species have a correlation dimension that is around 1."
   ]
  },
  {
   "cell_type": "code",
   "execution_count": null,
   "id": "35",
   "metadata": {},
   "outputs": [],
   "source": [
    "log_dgr = np.log(dgr)\n",
    "ii = np.flatnonzero((2 <= log_dgr) & (log_dgr <= 6))\n",
    "log_dgr_res = log_dgr[ii]\n",
    "\n",
    "def f(ecdf):\n",
    "    cc = np.cov(log_dgr_res, np.log(ecdf[ii]))\n",
    "    return cc[0, 1] / cc[0, 0]\n",
    "    \n",
    "dd[\"cor_dim\"] = dd[\"ecdf\"].apply(f)\n",
    "plt.hist(dd[\"cor_dim\"])"
   ]
  },
  {
   "cell_type": "code",
   "execution_count": null,
   "id": "36",
   "metadata": {},
   "outputs": [],
   "source": [
    "dd = dd.sort_values(by=\"cor_dim\")\n",
    "\n",
    "for j in [0, 1, -2, -1]:\n",
    "    plt.plot(np.log(dgr), np.log(dd[\"ecdf\"].iloc[j]), \"-o\")\n",
    "plt.grid(True)\n",
    "plt.xlabel(\"Log radius\")\n",
    "plt.ylabel(\"Log fraction of pairwise distances\")"
   ]
  },
  {
   "cell_type": "code",
   "execution_count": null,
   "id": "37",
   "metadata": {},
   "outputs": [],
   "source": [
    "dd = dd.sort_values(by=\"cor_dim\")\n",
    "\n",
    "for j in [0, 1, -2, -1]:\n",
    "    map_species(dd.index[j])"
   ]
  },
  {
   "cell_type": "markdown",
   "id": "38",
   "metadata": {},
   "source": [
    "Below we use principal component analysis to understand the variation of the eCDF's."
   ]
  },
  {
   "cell_type": "code",
   "execution_count": null,
   "id": "39",
   "metadata": {},
   "outputs": [],
   "source": [
    "species = dd.index.tolist()\n",
    "dm = np.vstack([dd.loc[k].ecdf for k in species])\n",
    "dm = np.log(dm)\n",
    "dmn = dm.mean(0)\n",
    "dm -= dmn\n",
    "u,s,vt = np.linalg.svd(dm)\n",
    "v = vt.T"
   ]
  },
  {
   "cell_type": "markdown",
   "id": "40",
   "metadata": {},
   "source": [
    "The spectrum seems to closely follow a power law $s_k \\sim k^{-1.8}$."
   ]
  },
  {
   "cell_type": "code",
   "execution_count": null,
   "id": "41",
   "metadata": {},
   "outputs": [],
   "source": [
    "ii = np.arange(1, len(s)+1)\n",
    "plt.plot(np.log(ii), np.log(s), \"-o\")\n",
    "plt.grid(True)\n",
    "plt.xlabel(\"Log rank\")\n",
    "plt.ylabel(\"Log singular value\")\n",
    "\n",
    "jj = np.flatnonzero(np.log(ii) < 3)\n",
    "cc = np.cov(np.log(s[jj]), np.log(ii)[jj])\n",
    "b = -cc[0, 1] / cc[1, 1]\n",
    "b"
   ]
  },
  {
   "cell_type": "code",
   "execution_count": null,
   "id": "42",
   "metadata": {},
   "outputs": [],
   "source": [
    "def plot_factor(j):\n",
    "    f = s[j] * u[:, j].std()\n",
    "    plt.plot(dgr, dmn)\n",
    "    plt.xlabel(\"Distance\")\n",
    "    plt.ylabel(\"Log cumulative probability\")\n",
    "    plt.grid(True)\n",
    "    for k in [-1, 1]:\n",
    "        plt.plot(dgr, dmn + k*f*v[:, j], color=\"grey\")\n",
    "    plt.show()\n",
    "        \n",
    "plot_factor(0)\n",
    "plot_factor(1)"
   ]
  },
  {
   "cell_type": "markdown",
   "id": "43",
   "metadata": {},
   "source": [
    "Below is a scatterplot of the PC scores for the first two factors. "
   ]
  },
  {
   "cell_type": "code",
   "execution_count": null,
   "id": "44",
   "metadata": {},
   "outputs": [],
   "source": [
    "plt.plot(u[:, 0], u[:, 1], \"o\")"
   ]
  },
  {
   "cell_type": "markdown",
   "id": "45",
   "metadata": {},
   "source": [
    "Below are plots of the eCDF functions (on the log scale) with extreme scores on factor 1, and on factor 2."
   ]
  },
  {
   "cell_type": "code",
   "execution_count": null,
   "id": "46",
   "metadata": {},
   "outputs": [],
   "source": [
    "q0 = np.quantile(u[:, 0], [0.05, 0.95])\n",
    "q1 = np.quantile(u[:, 1], [0.05, 0.95])\n",
    "qq = [q0, q1]\n",
    "\n",
    "for j in [0, 1]:\n",
    "    i0 = np.flatnonzero(u[:, j] < qq[j][0])\n",
    "    plt.clf()\n",
    "    plt.title(\"Factor {}\".format(j+1))\n",
    "    plt.xlabel(\"Log distance\")\n",
    "    plt.ylabel(\"Log cumulative probability\")\n",
    "    for i in i0:\n",
    "        plt.plot(np.log(dgr), np.log(dd[\"ecdf\"].iloc[i]), \"-\", color=\"blue\")\n",
    "    \n",
    "    i1 = np.flatnonzero(u[:, j] > qq[j][1])\n",
    "    for i in i1:\n",
    "        plt.plot(np.log(dgr), np.log(dd[\"ecdf\"].iloc[i]), \"-\", color=\"red\")\n",
    "    plt.show()\n"
   ]
  },
  {
   "cell_type": "markdown",
   "id": "47",
   "metadata": {},
   "source": [
    "The eCDF of pairwise distances is closely related to [Ripley's K-function](https://en.wikipedia.org/wiki/Spatial_descriptive_statistics) and the closely related Ripley's L-function.\n",
    "\n",
    "The K-function is the eCDF times the area of the region containing the points.  Under a uniform distribution, the k-function will be $\\pi d^2$.  However no plant is even close to being uniformly distributed on the Earth's surface (not least because of the presence of oceans), so this is really a \"straw man\" hypothesis. \n",
    "\n",
    "If the K-function is equal to $\\pi d^2$, then the log of the K-function is a linear function of $\\log(d)$, with slope 2.  As seen above, no species has a slope approaching 2.\n",
    "\n",
    "For the sake of illustration, we can take the area to be the total land area on Earth, excluding Antarctica. \n",
    "\n",
    "If $K(d)$ is the K-function, then the L-function is $L(d) = (K(d)/\\pi)^{1/2}$.  This is done to achieve variance stabilization.  Plotting $d - L(d)$ against $d$ should give a point set with zero conditional mean and constant conditional variance under uniformity.  We present a few such plots below, and see extreme discrepancy from what would be expected under uniformity."
   ]
  },
  {
   "cell_type": "code",
   "execution_count": null,
   "id": "48",
   "metadata": {},
   "outputs": [],
   "source": [
    "for j in np.random.choice(dd.shape[0], 5):\n",
    "    plt.plot(dgr, dgr - np.sqrt(land_area*dd[\"ecdf\"].iloc[j] / np.pi), \"-\")\n",
    "plt.xlabel(\"Log radius\")\n",
    "plt.ylabel(\"Log fraction of pairwise distances\")"
   ]
  },
  {
   "cell_type": "markdown",
   "id": "49",
   "metadata": {},
   "source": [
    "To check that we are using these methods properly, below we simulate data from a uniform distribution on the sphere and calculate the empirical CDF of the pairwise distances.  First we simulate the data:"
   ]
  },
  {
   "cell_type": "code",
   "execution_count": null,
   "id": "50",
   "metadata": {},
   "outputs": [],
   "source": [
    "n = 1000\n",
    "theta = 2 * np.pi * np.random.uniform(size=n)\n",
    "r = np.sqrt(np.random.uniform(size=n))\n",
    "x = r*np.sin(theta)\n",
    "y = r*np.cos(theta)\n",
    "xy = np.vstack((x, y)).T\n",
    "plt.plot(x, y, \"o\", color=\"grey\", alpha=0.3)\n",
    "plt.xlabel(\"X\")\n",
    "plt.ylabel(\"Y\")"
   ]
  },
  {
   "cell_type": "markdown",
   "id": "51",
   "metadata": {},
   "source": [
    "Next we calculate the empirical CDF and assess that it is a quadratic function of distance:"
   ]
  },
  {
   "cell_type": "code",
   "execution_count": null,
   "id": "52",
   "metadata": {},
   "outputs": [],
   "source": [
    "d = distance_matrix(xy, xy)\n",
    "ii = np.tril_indices(n)\n",
    "di = d[ii]\n",
    "di.sort()\n",
    "g = np.linspace(0, 1, 100)\n",
    "pp = np.searchsorted(di, g) / len(di)"
   ]
  },
  {
   "cell_type": "markdown",
   "id": "53",
   "metadata": {},
   "source": [
    "The CDF should be a quadratic function of distance, this can be assessed based on whether the plot below has a slope of 2:"
   ]
  },
  {
   "cell_type": "code",
   "execution_count": null,
   "id": "54",
   "metadata": {},
   "outputs": [],
   "source": [
    "plt.grid(True)\n",
    "plt.plot(np.log(g), np.log(pp), \"o\")"
   ]
  },
  {
   "cell_type": "markdown",
   "id": "55",
   "metadata": {},
   "source": [
    "Another check is that the K function should be equal to $d^2$, which is true up until $d$ gets large enough that there are boundary effects."
   ]
  },
  {
   "cell_type": "code",
   "execution_count": null,
   "id": "56",
   "metadata": {},
   "outputs": [],
   "source": [
    "plt.grid(True)\n",
    "plt.plot(g, np.pi*pp)\n",
    "plt.plot(g, np.pi*g**2)"
   ]
  }
 ],
 "metadata": {
  "kernelspec": {
   "display_name": "Python 3 (ipykernel)",
   "language": "python",
   "name": "python3"
  },
  "language_info": {
   "codemirror_mode": {
    "name": "ipython",
    "version": 3
   },
   "file_extension": ".py",
   "mimetype": "text/x-python",
   "name": "python",
   "nbconvert_exporter": "python",
   "pygments_lexer": "ipython3",
   "version": "3.10.9"
  }
 },
 "nbformat": 4,
 "nbformat_minor": 5
}
