{
 "cells": [
  {
   "cell_type": "markdown",
   "id": "0",
   "metadata": {},
   "source": [
    "# Assessing the tail of the marginal distribution of GOES data"
   ]
  },
  {
   "cell_type": "code",
   "execution_count": null,
   "id": "1",
   "metadata": {},
   "outputs": [],
   "source": [
    "import pandas as pd\n",
    "import numpy as np\n",
    "import matplotlib.pyplot as plt\n",
    "from matplotlib.backends.backend_pdf import PdfPages\n",
    "from scipy import stats\n",
    "from read import get_goes"
   ]
  },
  {
   "cell_type": "code",
   "execution_count": null,
   "id": "2",
   "metadata": {
    "lines_to_next_cell": 1
   },
   "outputs": [],
   "source": [
    "df = get_goes(2017)"
   ]
  },
  {
   "cell_type": "markdown",
   "id": "3",
   "metadata": {},
   "source": [
    "Estimate the tail index.  If P(X > t) ~ 1/x^a, then the Hill estimator estimates a."
   ]
  },
  {
   "cell_type": "code",
   "execution_count": null,
   "id": "4",
   "metadata": {
    "lines_to_next_cell": 1
   },
   "outputs": [],
   "source": [
    "def hill(x, p=0.001):\n",
    "    x = np.sort(x)\n",
    "    n = len(x)\n",
    "    k = int(p*n)\n",
    "    m = n - k\n",
    "    lx = np.log(x[m:])\n",
    "    lx -= lx[0]\n",
    "    alpha = 1 / np.mean(lx)\n",
    "    return alpha"
   ]
  },
  {
   "cell_type": "markdown",
   "id": "5",
   "metadata": {},
   "source": [
    "Make a Pareto plot using the upper p proportion of the data in x."
   ]
  },
  {
   "cell_type": "code",
   "execution_count": null,
   "id": "6",
   "metadata": {
    "lines_to_next_cell": 1
   },
   "outputs": [],
   "source": [
    "def pareto_plot(x, title, p=0.01):\n",
    "\n",
    "    # Probability points corresponding to the upper\n",
    "    # p fraction of the data.\n",
    "    n = len(x[0])\n",
    "    k = int((1 - p) * n)\n",
    "    q = np.arange(1, n+1) / (n+2)\n",
    "    q = q[k:]\n",
    "\n",
    "    plt.clf()\n",
    "    plt.title(\"%s (n=%d observations)\" % (title, len(x[0])))\n",
    "    plt.grid(True)\n",
    "    for y in x:\n",
    "        y = np.sort(y)\n",
    "        y = y[k:]\n",
    "        plt.plot(np.log(y), np.log(1 - q), color=\"grey\", alpha=0.8)\n",
    "    plt.xlabel(\"Observed log quantile\", size=15)\n",
    "    plt.ylabel(\"Log complementary probability\", size=15)"
   ]
  },
  {
   "cell_type": "markdown",
   "id": "7",
   "metadata": {},
   "source": [
    "Check the Hill estimator using Pareto data"
   ]
  },
  {
   "cell_type": "code",
   "execution_count": null,
   "id": "8",
   "metadata": {},
   "outputs": [],
   "source": [
    "for n in [int(1e4), int(1e5), int(1e6)]:\n",
    "    print(\"Hill slopes for Pareto data (n=%d):\" % n)\n",
    "    for b in [1, 2, 3, 4]:\n",
    "        pareto_plot([stats.pareto.rvs(b, size=n) for _ in range(10)], \"Pareto data with b=%.1f\" % b)\n",
    "\n",
    "        # Equivalent: f1 = np.exp(-np.log(np.random.uniform(size=n)) / b)\n",
    "        f1 = stats.pareto.rvs(b, size=n)\n",
    "        for p in [1e-5, 1e-4, 1e-3, 1e-2]:\n",
    "            if p*n > 10:\n",
    "                alpha = hill(f1, p)\n",
    "                print(\"%5d    %8.6f %8d %12.2f\" % (b, p, int(p*len(f1)), alpha))"
   ]
  },
  {
   "cell_type": "markdown",
   "id": "9",
   "metadata": {},
   "source": [
    "Check the Hill estimator using non-Pareto data with a Pareto tail"
   ]
  },
  {
   "cell_type": "code",
   "execution_count": null,
   "id": "10",
   "metadata": {},
   "outputs": [],
   "source": [
    "n = int(1e6)\n",
    "print(\"\\nHill slopes for non-Pareto data with Pareto tail (n=%d):\" % n)\n",
    "for b in [1, 2, 3, 4]:\n",
    "    x = []\n",
    "    for _ in range(10):\n",
    "        f1 = stats.pareto.rvs(b, size=n)\n",
    "        ii = np.random.choice(range(n), n//2)\n",
    "        f1[ii] = -np.log(np.random.uniform(len(ii)))\n",
    "        x.append(f1)\n",
    "    pareto_plot(x, \"Pareto/exponential mixture with b=%.1f\" % b)\n",
    "    f1 = x[0]\n",
    "    for p in [1e-5, 1e-4, 1e-3, 1e-2]:\n",
    "        alpha = hill(f1, p)\n",
    "        print(\"%5d    %8.6f %8d %12.2f\" % (b, p, int(p*len(f1)), alpha))"
   ]
  },
  {
   "cell_type": "markdown",
   "id": "11",
   "metadata": {},
   "source": [
    "What does the Hill estimator do when the tail is not heavy?"
   ]
  },
  {
   "cell_type": "code",
   "execution_count": null,
   "id": "12",
   "metadata": {},
   "outputs": [],
   "source": [
    "n = int(1e6)\n",
    "x = [np.random.normal(size=n) for _ in range(10)]\n",
    "pareto_plot(x, \"Gaussian data\")\n",
    "f1 = x[0]\n",
    "print(\"\\nGaussian (light-tailed) data:\")\n",
    "for p in [1e-5, 1e-4, 1e-3, 1e-2]:\n",
    "    alpha = hill(f1, p)\n",
    "    print(\"%8.6f %8d %12.2f\" % (p, int(p*len(f1)), alpha))"
   ]
  },
  {
   "cell_type": "markdown",
   "id": "13",
   "metadata": {},
   "source": [
    "Make Pareto plots of the GOES-flux data and first differences."
   ]
  },
  {
   "cell_type": "code",
   "execution_count": null,
   "id": "14",
   "metadata": {},
   "outputs": [],
   "source": [
    "pareto_plot([df[\"Flux1\"].values], \"GOES Flux-1 data\")\n",
    "pareto_plot([df[\"Flux2\"].values], \"GOES Flux-2 data\")\n",
    "pareto_plot([np.diff(df[\"Flux1\"].values)], \"GOES Flux-1 data (differenced)\")\n",
    "pareto_plot([np.diff(df[\"Flux2\"].values)], \"GOES Flux-2 data (differenced)\")"
   ]
  },
  {
   "cell_type": "markdown",
   "id": "15",
   "metadata": {},
   "source": [
    "Estimate tail parameters for the GOES-flux data and first differences."
   ]
  },
  {
   "cell_type": "code",
   "execution_count": null,
   "id": "16",
   "metadata": {},
   "outputs": [],
   "source": [
    "for d in [False, True]:\n",
    "    f1 = df[\"Flux1\"].values\n",
    "    if d:\n",
    "        print(\"\\nX-ray flux data (differenced):\")\n",
    "        f1 = np.diff(f1)\n",
    "    else:\n",
    "        print(\"\\nX-ray flux data:\")\n",
    "    for p in [1e-6, 1e-5, 1e-4, 1e-3, 1e-2]:\n",
    "        alpha = hill(f1, p)\n",
    "        print(\"%8.6f %8d %12.2f\" % (p, int(p*len(f1)), alpha))"
   ]
  }
 ],
 "metadata": {
  "jupytext": {
   "cell_metadata_filter": "-all",
   "main_language": "python",
   "notebook_metadata_filter": "-all"
  },
  "kernelspec": {
   "display_name": "Python 3 (ipykernel)",
   "language": "python",
   "name": "python3"
  },
  "language_info": {
   "codemirror_mode": {
    "name": "ipython",
    "version": 3
   },
   "file_extension": ".py",
   "mimetype": "text/x-python",
   "name": "python",
   "nbconvert_exporter": "python",
   "pygments_lexer": "ipython3",
   "version": "3.10.9"
  }
 },
 "nbformat": 4,
 "nbformat_minor": 5
}
