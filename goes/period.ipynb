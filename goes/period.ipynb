{
 "cells": [
  {
   "cell_type": "code",
   "execution_count": null,
   "id": "37d58896",
   "metadata": {},
   "outputs": [],
   "source": [
    "import numpy as np\n",
    "from read import *\n",
    "from scipy.signal import lombscargle\n",
    "import matplotlib.pyplot as plt\n",
    "from matplotlib.backends.backend_pdf import PdfPages"
   ]
  },
  {
   "cell_type": "code",
   "execution_count": null,
   "id": "fdd3c00e",
   "metadata": {},
   "outputs": [],
   "source": [
    "df = get_goes(2017)"
   ]
  },
  {
   "cell_type": "code",
   "execution_count": null,
   "id": "b28c2c6c",
   "metadata": {},
   "outputs": [],
   "source": [
    "pdf = PdfPages(\"period_py.pdf\")"
   ]
  },
  {
   "cell_type": "code",
   "execution_count": null,
   "id": "4c00832e",
   "metadata": {
    "lines_to_next_cell": 1
   },
   "outputs": [],
   "source": [
    "# Arange the data into blocks containing mp observations, which\n",
    "# is around mp/30 minutes of data.\n",
    "mp = 5000\n",
    "tix, flx = make_blocks(df, mp, 0)"
   ]
  },
  {
   "cell_type": "code",
   "execution_count": null,
   "id": "efe082e0",
   "metadata": {
    "lines_to_next_cell": 1
   },
   "outputs": [],
   "source": [
    "def make_plot(w, ma, ti):\n",
    "    plt.clf()\n",
    "    plt.grid(True)\n",
    "    for m in ma:\n",
    "        plt.plot(60*w, m)\n",
    "    plt.ylabel(\"Energy\", size=15)\n",
    "    plt.xlabel(\"Cycles/minute (frequency)\", size=15)\n",
    "    plt.title(ti)\n",
    "    pdf.savefig()\n",
    "    plt.clf()\n",
    "    plt.grid(True)\n",
    "    for m in ma:\n",
    "        plt.plot(1/(60*w), m)\n",
    "    plt.ylabel(\"Energy\", size=15)\n",
    "    plt.xlabel(\"Minutes/cycle (period)\", size=15)\n",
    "    plt.title(ti)\n",
    "    pdf.savefig()"
   ]
  },
  {
   "cell_type": "code",
   "execution_count": null,
   "id": "96572b47",
   "metadata": {},
   "outputs": [],
   "source": [
    "# Test data to be sure we are interpreting the plot correctly.  This data\n",
    "# has a very strong sinusoid with 1 cycle every 10 seconds, or a frequency\n",
    "# of 0.1 cycles per second, or 6 cycles per minute.\n",
    "period = 10     # True period\n",
    "w = 1 / period  # True frequency\n",
    "ti = np.sort(1000*np.random.uniform(size=100000))\n",
    "for s in [0.5, 10, 50, 100]:\n",
    "    flux1 = np.cos(w*2*np.pi*ti) + s*np.random.normal(size=ti.shape[0])\n",
    "    wf = np.linspace(0.1, 2, 400)  # Frequencies to fit\n",
    "    m = lombscargle(ti, flux1, wf, precenter=True, normalize=True)\n",
    "    ww = wf / (2*np.pi)\n",
    "    make_plot(ww, [m], \"Simulated data (s=%.2f)\" % s)"
   ]
  },
  {
   "cell_type": "code",
   "execution_count": null,
   "id": "0e254fc4",
   "metadata": {},
   "outputs": [],
   "source": [
    "ma = []\n",
    "w = np.linspace(0.01, 0.5, 800)  # Frequencies to fit\n",
    "ww = w / (2*np.pi)\n",
    "for k in range(flx.shape[0]):\n",
    "    if k % 100 == 0:\n",
    "        print(k)\n",
    "    m = lombscargle(tix[k, :], np.log(1e-10 + flx[k, :]), w, precenter=True, normalize=True)\n",
    "    ma.append(m)"
   ]
  },
  {
   "cell_type": "code",
   "execution_count": null,
   "id": "8292913f",
   "metadata": {},
   "outputs": [],
   "source": [
    "ma = np.asarray(ma)"
   ]
  },
  {
   "cell_type": "code",
   "execution_count": null,
   "id": "b825c5c0",
   "metadata": {},
   "outputs": [],
   "source": [
    "plt.clf()\n",
    "plt.grid(True)\n",
    "plt.plot(60*ww, ma.mean(0))\n",
    "plt.xlabel(\"Cycles/minute (frequency)\", size=15)\n",
    "plt.ylabel(\"Energy\", size=15)\n",
    "plt.title(\"GOES-1\")\n",
    "pdf.savefig()"
   ]
  },
  {
   "cell_type": "code",
   "execution_count": null,
   "id": "ab01db19",
   "metadata": {},
   "outputs": [],
   "source": [
    "lma = np.log(ma)\n",
    "lmn = lma.mean(0)\n",
    "lma -= lmn\n",
    "u, s, vt = np.linalg.svd(lma, 0)\n",
    "v = vt.T"
   ]
  },
  {
   "cell_type": "code",
   "execution_count": null,
   "id": "bf8016b2",
   "metadata": {},
   "outputs": [],
   "source": [
    "plt.clf()\n",
    "plt.grid(True)\n",
    "plt.plot(60*ww, lmn)\n",
    "f = np.sqrt(s[0])\n",
    "plt.plot(60*ww, lmn + f*v[:, 0], \"-\", color=\"grey\")\n",
    "plt.plot(60*ww, lmn - f*v[:, 0], \"-\", color=\"grey\")\n",
    "plt.xlabel(\"Cycles/minute (frequency)\", size=15)\n",
    "plt.ylabel(\"Log energy\", size=15)\n",
    "plt.title(\"GOES-1\")\n",
    "pdf.savefig()"
   ]
  },
  {
   "cell_type": "code",
   "execution_count": null,
   "id": "dce6ecc4",
   "metadata": {},
   "outputs": [],
   "source": [
    "pdf.close()"
   ]
  }
 ],
 "metadata": {
  "jupytext": {
   "cell_metadata_filter": "-all",
   "main_language": "python",
   "notebook_metadata_filter": "-all"
  }
 },
 "nbformat": 4,
 "nbformat_minor": 5
}
