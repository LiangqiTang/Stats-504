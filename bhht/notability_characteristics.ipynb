{
 "cells": [
  {
   "cell_type": "markdown",
   "id": "0",
   "metadata": {},
   "source": [
    "# Understanding the relationships among characteristics of notable people\n",
    "\n",
    "\"Notability\" is a social construct with no fixed definition.  The BHHT data contain four main attributes describing the notable people -- sex, occupation, birth era, region.  These characteristics can be used to understand the social construction of notability in different contexts.  For example, we can consider how the joint distribution of sex and occupation varies geographically (by region) and over time.\n",
    "\n",
    "The characteristics of notable people in the BHHT data are nominal (except birth year, which can be recoded if desired to an ordinal \"birth era\" variable).  We can thus represent the data as a 4-way contingency table (sex x occupation x birth era x region). This contingency table reflects the joint distribution of the four characteristics in the population of interest."
   ]
  },
  {
   "cell_type": "code",
   "execution_count": 43,
   "id": "1",
   "metadata": {},
   "outputs": [],
   "source": [
    "import pandas as pd\n",
    "import numpy as np\n",
    "from pathlib import Path\n",
    "import prince\n",
    "import matplotlib.pyplot as plt"
   ]
  },
  {
   "cell_type": "markdown",
   "id": "2",
   "metadata": {},
   "source": [
    "Modify the path below to point to the data file as needed."
   ]
  },
  {
   "cell_type": "code",
   "execution_count": 44,
   "id": "3",
   "metadata": {},
   "outputs": [],
   "source": [
    "pa = Path('/Users/liangqi/Library/Mobile Documents/com~apple~CloudDocs/Stats-504/bhht')"
   ]
  },
  {
   "cell_type": "markdown",
   "id": "4",
   "metadata": {},
   "source": [
    "The entire dataset is around 2.3 million rows.  You can restrict to the first million rows when exploring, then switch to the whole dataset for final analyses."
   ]
  },
  {
   "cell_type": "code",
   "execution_count": 45,
   "id": "5",
   "metadata": {},
   "outputs": [],
   "source": [
    "ca = [\"birth\", \"death\", \"gender\", \"un_region\", \"level1_main_occ\", \"name\"]\n",
    "df = pd.read_csv(pa / Path(\"cross-verified-database.csv.gz\"), usecols=ca, encoding=\"latin-1\")"
   ]
  },
  {
   "cell_type": "markdown",
   "id": "6",
   "metadata": {},
   "source": [
    "Rename the variables so that they fit better as labels on plots."
   ]
  },
  {
   "cell_type": "code",
   "execution_count": 46,
   "id": "7",
   "metadata": {},
   "outputs": [],
   "source": [
    "df = df.rename({\"level1_main_occ\": \"occ\", \"gender\": \"sex\", \"un_region\": \"reg\"}, axis=1)\n",
    "df = df[[\"birth\", \"occ\", \"sex\", \"reg\", \"name\"]].dropna()"
   ]
  },
  {
   "cell_type": "markdown",
   "id": "8",
   "metadata": {},
   "source": [
    "Since very few people in the dataset lived prior to 1500 we exclude them here."
   ]
  },
  {
   "cell_type": "code",
   "execution_count": 47,
   "id": "9",
   "metadata": {},
   "outputs": [
    {
     "data": {
      "text/html": [
       "<div>\n",
       "<style scoped>\n",
       "    .dataframe tbody tr th:only-of-type {\n",
       "        vertical-align: middle;\n",
       "    }\n",
       "\n",
       "    .dataframe tbody tr th {\n",
       "        vertical-align: top;\n",
       "    }\n",
       "\n",
       "    .dataframe thead th {\n",
       "        text-align: right;\n",
       "    }\n",
       "</style>\n",
       "<table border=\"1\" class=\"dataframe\">\n",
       "  <thead>\n",
       "    <tr style=\"text-align: right;\">\n",
       "      <th></th>\n",
       "      <th>birth</th>\n",
       "      <th>occ</th>\n",
       "      <th>sex</th>\n",
       "      <th>reg</th>\n",
       "      <th>name</th>\n",
       "    </tr>\n",
       "  </thead>\n",
       "  <tbody>\n",
       "    <tr>\n",
       "      <th>0</th>\n",
       "      <td>1932.0</td>\n",
       "      <td>Culture</td>\n",
       "      <td>Male</td>\n",
       "      <td>Europe</td>\n",
       "      <td>Claus_Hammel</td>\n",
       "    </tr>\n",
       "    <tr>\n",
       "      <th>1</th>\n",
       "      <td>1860.0</td>\n",
       "      <td>Culture</td>\n",
       "      <td>Male</td>\n",
       "      <td>Europe</td>\n",
       "      <td>Karel_MatÄj_Äapek-Chod</td>\n",
       "    </tr>\n",
       "    <tr>\n",
       "      <th>2</th>\n",
       "      <td>1971.0</td>\n",
       "      <td>Culture</td>\n",
       "      <td>Male</td>\n",
       "      <td>Europe</td>\n",
       "      <td>Florian_Eichinger</td>\n",
       "    </tr>\n",
       "    <tr>\n",
       "      <th>3</th>\n",
       "      <td>1983.0</td>\n",
       "      <td>Culture</td>\n",
       "      <td>Male</td>\n",
       "      <td>Europe</td>\n",
       "      <td>Florian_Jahr</td>\n",
       "    </tr>\n",
       "    <tr>\n",
       "      <th>4</th>\n",
       "      <td>1912.0</td>\n",
       "      <td>Leadership</td>\n",
       "      <td>Female</td>\n",
       "      <td>Europe</td>\n",
       "      <td>Wiltraut_Rupp-von_BrÃ¼nneck</td>\n",
       "    </tr>\n",
       "  </tbody>\n",
       "</table>\n",
       "</div>"
      ],
      "text/plain": [
       "    birth         occ     sex     reg                         name\n",
       "0  1932.0     Culture    Male  Europe                 Claus_Hammel\n",
       "1  1860.0     Culture    Male  Europe     Karel_MatÄj_Äapek-Chod\n",
       "2  1971.0     Culture    Male  Europe            Florian_Eichinger\n",
       "3  1983.0     Culture    Male  Europe                 Florian_Jahr\n",
       "4  1912.0  Leadership  Female  Europe  Wiltraut_Rupp-von_BrÃ¼nneck"
      ]
     },
     "execution_count": 47,
     "metadata": {},
     "output_type": "execute_result"
    }
   ],
   "source": [
    "df = df.query(\"birth >= 1500\")\n",
    "df.head()"
   ]
  },
  {
   "cell_type": "markdown",
   "id": "10",
   "metadata": {},
   "source": [
    "Remove very infrequent or difficult to interpret categories"
   ]
  },
  {
   "cell_type": "code",
   "execution_count": 48,
   "id": "11",
   "metadata": {},
   "outputs": [],
   "source": [
    "df = df.loc[df.occ != \"Other\", :]\n",
    "df = df.loc[df.occ != \"Missing\", :]\n",
    "df = df.loc[df.sex != \"Other\", :]"
   ]
  },
  {
   "cell_type": "markdown",
   "id": "12",
   "metadata": {},
   "source": [
    "Create a \"century of birth\" variable, make it a string so that it is interpreted as a nominal variable."
   ]
  },
  {
   "cell_type": "code",
   "execution_count": 49,
   "id": "13",
   "metadata": {},
   "outputs": [
    {
     "name": "stderr",
     "output_type": "stream",
     "text": [
      "IOPub data rate exceeded.\n",
      "The Jupyter server will temporarily stop sending output\n",
      "to the client in order to avoid crashing it.\n",
      "To change this limit, set the config variable\n",
      "`--ServerApp.iopub_data_rate_limit`.\n",
      "\n",
      "Current values:\n",
      "ServerApp.iopub_data_rate_limit=1000000.0 (bytes/sec)\n",
      "ServerApp.rate_limit_window=3.0 (secs)\n",
      "\n"
     ]
    },
    {
     "data": {
      "text/html": [
       "<div>\n",
       "<style scoped>\n",
       "    .dataframe tbody tr th:only-of-type {\n",
       "        vertical-align: middle;\n",
       "    }\n",
       "\n",
       "    .dataframe tbody tr th {\n",
       "        vertical-align: top;\n",
       "    }\n",
       "\n",
       "    .dataframe thead th {\n",
       "        text-align: right;\n",
       "    }\n",
       "</style>\n",
       "<table border=\"1\" class=\"dataframe\">\n",
       "  <thead>\n",
       "    <tr style=\"text-align: right;\">\n",
       "      <th></th>\n",
       "      <th>occ</th>\n",
       "      <th>sex</th>\n",
       "      <th>reg</th>\n",
       "      <th>name</th>\n",
       "      <th>era</th>\n",
       "    </tr>\n",
       "  </thead>\n",
       "  <tbody>\n",
       "    <tr>\n",
       "      <th>0</th>\n",
       "      <td>Culture</td>\n",
       "      <td>Male</td>\n",
       "      <td>Europe</td>\n",
       "      <td>Claus_Hammel</td>\n",
       "      <td>1900</td>\n",
       "    </tr>\n",
       "    <tr>\n",
       "      <th>1</th>\n",
       "      <td>Culture</td>\n",
       "      <td>Male</td>\n",
       "      <td>Europe</td>\n",
       "      <td>Karel_MatÄj_Äapek-Chod</td>\n",
       "      <td>1900</td>\n",
       "    </tr>\n",
       "    <tr>\n",
       "      <th>2</th>\n",
       "      <td>Culture</td>\n",
       "      <td>Male</td>\n",
       "      <td>Europe</td>\n",
       "      <td>Florian_Eichinger</td>\n",
       "      <td>2000</td>\n",
       "    </tr>\n",
       "    <tr>\n",
       "      <th>3</th>\n",
       "      <td>Culture</td>\n",
       "      <td>Male</td>\n",
       "      <td>Europe</td>\n",
       "      <td>Florian_Jahr</td>\n",
       "      <td>2000</td>\n",
       "    </tr>\n",
       "    <tr>\n",
       "      <th>4</th>\n",
       "      <td>Leadership</td>\n",
       "      <td>Female</td>\n",
       "      <td>Europe</td>\n",
       "      <td>Wiltraut_Rupp-von_BrÃ¼nneck</td>\n",
       "      <td>1900</td>\n",
       "    </tr>\n",
       "  </tbody>\n",
       "</table>\n",
       "</div>"
      ],
      "text/plain": [
       "          occ     sex     reg                         name   era\n",
       "0     Culture    Male  Europe                 Claus_Hammel  1900\n",
       "1     Culture    Male  Europe     Karel_MatÄj_Äapek-Chod  1900\n",
       "2     Culture    Male  Europe            Florian_Eichinger  2000\n",
       "3     Culture    Male  Europe                 Florian_Jahr  2000\n",
       "4  Leadership  Female  Europe  Wiltraut_Rupp-von_BrÃ¼nneck  1900"
      ]
     },
     "execution_count": 49,
     "metadata": {},
     "output_type": "execute_result"
    }
   ],
   "source": [
    "df.loc[:, \"era\"] = df.birth.round(-2)\n",
    "df = df.drop(\"birth\", axis=1)\n",
    "df.loc[:, \"era\"] = [\"%d\" % x for x in df.era]\n",
    "df.head()"
   ]
  },
  {
   "cell_type": "markdown",
   "id": "14",
   "metadata": {},
   "source": [
    "We won't need the names anymore so we create a copy of the data that omits them."
   ]
  },
  {
   "cell_type": "code",
   "execution_count": 50,
   "id": "15",
   "metadata": {},
   "outputs": [
    {
     "data": {
      "text/html": [
       "<div>\n",
       "<style scoped>\n",
       "    .dataframe tbody tr th:only-of-type {\n",
       "        vertical-align: middle;\n",
       "    }\n",
       "\n",
       "    .dataframe tbody tr th {\n",
       "        vertical-align: top;\n",
       "    }\n",
       "\n",
       "    .dataframe thead th {\n",
       "        text-align: right;\n",
       "    }\n",
       "</style>\n",
       "<table border=\"1\" class=\"dataframe\">\n",
       "  <thead>\n",
       "    <tr style=\"text-align: right;\">\n",
       "      <th></th>\n",
       "      <th>occ</th>\n",
       "      <th>sex</th>\n",
       "      <th>era</th>\n",
       "    </tr>\n",
       "  </thead>\n",
       "  <tbody>\n",
       "    <tr>\n",
       "      <th>0</th>\n",
       "      <td>Culture</td>\n",
       "      <td>Male</td>\n",
       "      <td>1900</td>\n",
       "    </tr>\n",
       "    <tr>\n",
       "      <th>1</th>\n",
       "      <td>Culture</td>\n",
       "      <td>Male</td>\n",
       "      <td>1900</td>\n",
       "    </tr>\n",
       "    <tr>\n",
       "      <th>2</th>\n",
       "      <td>Culture</td>\n",
       "      <td>Male</td>\n",
       "      <td>2000</td>\n",
       "    </tr>\n",
       "    <tr>\n",
       "      <th>3</th>\n",
       "      <td>Culture</td>\n",
       "      <td>Male</td>\n",
       "      <td>2000</td>\n",
       "    </tr>\n",
       "    <tr>\n",
       "      <th>4</th>\n",
       "      <td>Leadership</td>\n",
       "      <td>Female</td>\n",
       "      <td>1900</td>\n",
       "    </tr>\n",
       "    <tr>\n",
       "      <th>...</th>\n",
       "      <td>...</td>\n",
       "      <td>...</td>\n",
       "      <td>...</td>\n",
       "    </tr>\n",
       "    <tr>\n",
       "      <th>2291812</th>\n",
       "      <td>Sports/Games</td>\n",
       "      <td>Male</td>\n",
       "      <td>2000</td>\n",
       "    </tr>\n",
       "    <tr>\n",
       "      <th>2291813</th>\n",
       "      <td>Sports/Games</td>\n",
       "      <td>Male</td>\n",
       "      <td>2000</td>\n",
       "    </tr>\n",
       "    <tr>\n",
       "      <th>2291814</th>\n",
       "      <td>Sports/Games</td>\n",
       "      <td>Male</td>\n",
       "      <td>2000</td>\n",
       "    </tr>\n",
       "    <tr>\n",
       "      <th>2291815</th>\n",
       "      <td>Culture</td>\n",
       "      <td>Male</td>\n",
       "      <td>2000</td>\n",
       "    </tr>\n",
       "    <tr>\n",
       "      <th>2291816</th>\n",
       "      <td>Sports/Games</td>\n",
       "      <td>Female</td>\n",
       "      <td>2000</td>\n",
       "    </tr>\n",
       "  </tbody>\n",
       "</table>\n",
       "<p>1983049 rows × 3 columns</p>\n",
       "</div>"
      ],
      "text/plain": [
       "                  occ     sex   era\n",
       "0             Culture    Male  1900\n",
       "1             Culture    Male  1900\n",
       "2             Culture    Male  2000\n",
       "3             Culture    Male  2000\n",
       "4          Leadership  Female  1900\n",
       "...               ...     ...   ...\n",
       "2291812  Sports/Games    Male  2000\n",
       "2291813  Sports/Games    Male  2000\n",
       "2291814  Sports/Games    Male  2000\n",
       "2291815       Culture    Male  2000\n",
       "2291816  Sports/Games  Female  2000\n",
       "\n",
       "[1983049 rows x 3 columns]"
      ]
     },
     "execution_count": 50,
     "metadata": {},
     "output_type": "execute_result"
    }
   ],
   "source": [
    "dx = df.drop(columns=[\"name\", 'reg'])\n",
    "dx"
   ]
  },
  {
   "cell_type": "markdown",
   "id": "16",
   "metadata": {},
   "source": [
    "We will aim to understand notability by studying the contingency table below."
   ]
  },
  {
   "cell_type": "code",
   "execution_count": 52,
   "id": "17",
   "metadata": {},
   "outputs": [
    {
     "data": {
      "text/html": [
       "<div>\n",
       "<style scoped>\n",
       "    .dataframe tbody tr th:only-of-type {\n",
       "        vertical-align: middle;\n",
       "    }\n",
       "\n",
       "    .dataframe tbody tr th {\n",
       "        vertical-align: top;\n",
       "    }\n",
       "\n",
       "    .dataframe thead th {\n",
       "        text-align: right;\n",
       "    }\n",
       "</style>\n",
       "<table border=\"1\" class=\"dataframe\">\n",
       "  <thead>\n",
       "    <tr style=\"text-align: right;\">\n",
       "      <th></th>\n",
       "      <th>era</th>\n",
       "      <th>1500</th>\n",
       "      <th>1600</th>\n",
       "      <th>1700</th>\n",
       "      <th>1800</th>\n",
       "      <th>1900</th>\n",
       "      <th>2000</th>\n",
       "    </tr>\n",
       "    <tr>\n",
       "      <th>sex</th>\n",
       "      <th>occ</th>\n",
       "      <th></th>\n",
       "      <th></th>\n",
       "      <th></th>\n",
       "      <th></th>\n",
       "      <th></th>\n",
       "      <th></th>\n",
       "    </tr>\n",
       "  </thead>\n",
       "  <tbody>\n",
       "    <tr>\n",
       "      <th rowspan=\"4\" valign=\"top\">Female</th>\n",
       "      <th>Culture</th>\n",
       "      <td>96.0</td>\n",
       "      <td>440.0</td>\n",
       "      <td>1022.0</td>\n",
       "      <td>6464.0</td>\n",
       "      <td>63178.0</td>\n",
       "      <td>96247.0</td>\n",
       "    </tr>\n",
       "    <tr>\n",
       "      <th>Discovery/Science</th>\n",
       "      <td>14.0</td>\n",
       "      <td>63.0</td>\n",
       "      <td>109.0</td>\n",
       "      <td>1014.0</td>\n",
       "      <td>15594.0</td>\n",
       "      <td>11166.0</td>\n",
       "    </tr>\n",
       "    <tr>\n",
       "      <th>Leadership</th>\n",
       "      <td>459.0</td>\n",
       "      <td>1082.0</td>\n",
       "      <td>1242.0</td>\n",
       "      <td>3033.0</td>\n",
       "      <td>21444.0</td>\n",
       "      <td>24629.0</td>\n",
       "    </tr>\n",
       "    <tr>\n",
       "      <th>Sports/Games</th>\n",
       "      <td>0.0</td>\n",
       "      <td>5.0</td>\n",
       "      <td>3.0</td>\n",
       "      <td>55.0</td>\n",
       "      <td>8307.0</td>\n",
       "      <td>72302.0</td>\n",
       "    </tr>\n",
       "    <tr>\n",
       "      <th rowspan=\"4\" valign=\"top\">Male</th>\n",
       "      <th>Culture</th>\n",
       "      <td>2208.0</td>\n",
       "      <td>8053.0</td>\n",
       "      <td>11455.0</td>\n",
       "      <td>40808.0</td>\n",
       "      <td>223688.0</td>\n",
       "      <td>173341.0</td>\n",
       "    </tr>\n",
       "    <tr>\n",
       "      <th>Discovery/Science</th>\n",
       "      <td>1837.0</td>\n",
       "      <td>4564.0</td>\n",
       "      <td>7352.0</td>\n",
       "      <td>31462.0</td>\n",
       "      <td>128151.0</td>\n",
       "      <td>38405.0</td>\n",
       "    </tr>\n",
       "    <tr>\n",
       "      <th>Leadership</th>\n",
       "      <td>4626.0</td>\n",
       "      <td>14598.0</td>\n",
       "      <td>21665.0</td>\n",
       "      <td>95333.0</td>\n",
       "      <td>236982.0</td>\n",
       "      <td>85382.0</td>\n",
       "    </tr>\n",
       "    <tr>\n",
       "      <th>Sports/Games</th>\n",
       "      <td>27.0</td>\n",
       "      <td>49.0</td>\n",
       "      <td>187.0</td>\n",
       "      <td>3657.0</td>\n",
       "      <td>154753.0</td>\n",
       "      <td>366498.0</td>\n",
       "    </tr>\n",
       "  </tbody>\n",
       "</table>\n",
       "</div>"
      ],
      "text/plain": [
       "era                         1500     1600     1700     1800      1900  \\\n",
       "sex    occ                                                              \n",
       "Female Culture              96.0    440.0   1022.0   6464.0   63178.0   \n",
       "       Discovery/Science    14.0     63.0    109.0   1014.0   15594.0   \n",
       "       Leadership          459.0   1082.0   1242.0   3033.0   21444.0   \n",
       "       Sports/Games          0.0      5.0      3.0     55.0    8307.0   \n",
       "Male   Culture            2208.0   8053.0  11455.0  40808.0  223688.0   \n",
       "       Discovery/Science  1837.0   4564.0   7352.0  31462.0  128151.0   \n",
       "       Leadership         4626.0  14598.0  21665.0  95333.0  236982.0   \n",
       "       Sports/Games         27.0     49.0    187.0   3657.0  154753.0   \n",
       "\n",
       "era                           2000  \n",
       "sex    occ                          \n",
       "Female Culture             96247.0  \n",
       "       Discovery/Science   11166.0  \n",
       "       Leadership          24629.0  \n",
       "       Sports/Games        72302.0  \n",
       "Male   Culture            173341.0  \n",
       "       Discovery/Science   38405.0  \n",
       "       Leadership          85382.0  \n",
       "       Sports/Games       366498.0  "
      ]
     },
     "execution_count": 52,
     "metadata": {},
     "output_type": "execute_result"
    }
   ],
   "source": [
    "tab = dx.groupby([\"sex\", \"occ\", \"era\"]).size().unstack().fillna(0)\n",
    "tab"
   ]
  },
  {
   "cell_type": "markdown",
   "id": "18",
   "metadata": {},
   "source": [
    "## Pearson residuals\n",
    "\n",
    "One way to gain some insight from a multi-way contingency table is to form Pearson residuals.  These residuals have the form (observed - expected) / SD(observed), where \"observed\" and \"expected\" are the observed and expected cell counts for each cell in the contingency table.  The \"expected\" cell count is obtained under an independence model, and the standard deviation SD(observed) is calculated using the Poisson approximation to the distribution of a Bernoulli trial with small success probability.  The Pearson residuals help identify where the observed counts are furthest (in statistical terms) from what would be expected if the attributes were distributed randomly over the observations. "
   ]
  },
  {
   "cell_type": "code",
   "execution_count": 31,
   "id": "19",
   "metadata": {},
   "outputs": [
    {
     "name": "stderr",
     "output_type": "stream",
     "text": [
      "/var/folders/1m/g_2xpnh912g613fymwqbt4gr0000gn/T/ipykernel_40208/4266104949.py:6: FutureWarning: The provided callable <function sum at 0x103e25d00> is currently using SeriesGroupBy.sum. In a future version of pandas, the provided callable will be used directly. To keep current behavior pass the string \"sum\" instead.\n",
      "  long[v+\"_p\"] = long.groupby(v)[\"count\"].transform(np.sum) / n\n",
      "/var/folders/1m/g_2xpnh912g613fymwqbt4gr0000gn/T/ipykernel_40208/4266104949.py:6: FutureWarning: The provided callable <function sum at 0x103e25d00> is currently using SeriesGroupBy.sum. In a future version of pandas, the provided callable will be used directly. To keep current behavior pass the string \"sum\" instead.\n",
      "  long[v+\"_p\"] = long.groupby(v)[\"count\"].transform(np.sum) / n\n",
      "/var/folders/1m/g_2xpnh912g613fymwqbt4gr0000gn/T/ipykernel_40208/4266104949.py:6: FutureWarning: The provided callable <function sum at 0x103e25d00> is currently using SeriesGroupBy.sum. In a future version of pandas, the provided callable will be used directly. To keep current behavior pass the string \"sum\" instead.\n",
      "  long[v+\"_p\"] = long.groupby(v)[\"count\"].transform(np.sum) / n\n",
      "/var/folders/1m/g_2xpnh912g613fymwqbt4gr0000gn/T/ipykernel_40208/4266104949.py:6: FutureWarning: The provided callable <function sum at 0x103e25d00> is currently using SeriesGroupBy.sum. In a future version of pandas, the provided callable will be used directly. To keep current behavior pass the string \"sum\" instead.\n",
      "  long[v+\"_p\"] = long.groupby(v)[\"count\"].transform(np.sum) / n\n"
     ]
    },
    {
     "data": {
      "text/html": [
       "<div>\n",
       "<style scoped>\n",
       "    .dataframe tbody tr th:only-of-type {\n",
       "        vertical-align: middle;\n",
       "    }\n",
       "\n",
       "    .dataframe tbody tr th {\n",
       "        vertical-align: top;\n",
       "    }\n",
       "\n",
       "    .dataframe thead th {\n",
       "        text-align: right;\n",
       "    }\n",
       "</style>\n",
       "<table border=\"1\" class=\"dataframe\">\n",
       "  <thead>\n",
       "    <tr style=\"text-align: right;\">\n",
       "      <th></th>\n",
       "      <th>sex</th>\n",
       "      <th>reg</th>\n",
       "      <th>occ</th>\n",
       "      <th>era</th>\n",
       "      <th>count</th>\n",
       "      <th>sex_p</th>\n",
       "      <th>reg_p</th>\n",
       "      <th>occ_p</th>\n",
       "      <th>era_p</th>\n",
       "      <th>exp</th>\n",
       "      <th>chi2_resid</th>\n",
       "    </tr>\n",
       "  </thead>\n",
       "  <tbody>\n",
       "    <tr>\n",
       "      <th>209</th>\n",
       "      <td>Male</td>\n",
       "      <td>Europe</td>\n",
       "      <td>Leadership</td>\n",
       "      <td>2000</td>\n",
       "      <td>36335.0</td>\n",
       "      <td>0.834614</td>\n",
       "      <td>0.565797</td>\n",
       "      <td>0.257419</td>\n",
       "      <td>0.437695</td>\n",
       "      <td>105509.730645</td>\n",
       "      <td>-212.961560</td>\n",
       "    </tr>\n",
       "    <tr>\n",
       "      <th>213</th>\n",
       "      <td>Male</td>\n",
       "      <td>Europe</td>\n",
       "      <td>Sports/Games</td>\n",
       "      <td>1800</td>\n",
       "      <td>2856.0</td>\n",
       "      <td>0.834614</td>\n",
       "      <td>0.565797</td>\n",
       "      <td>0.305511</td>\n",
       "      <td>0.091690</td>\n",
       "      <td>26231.879031</td>\n",
       "      <td>-144.328883</td>\n",
       "    </tr>\n",
       "    <tr>\n",
       "      <th>94</th>\n",
       "      <td>Female</td>\n",
       "      <td>Europe</td>\n",
       "      <td>Sports/Games</td>\n",
       "      <td>1900</td>\n",
       "      <td>5043.0</td>\n",
       "      <td>0.165386</td>\n",
       "      <td>0.565797</td>\n",
       "      <td>0.305511</td>\n",
       "      <td>0.429690</td>\n",
       "      <td>24359.853424</td>\n",
       "      <td>-123.765343</td>\n",
       "    </tr>\n",
       "    <tr>\n",
       "      <th>203</th>\n",
       "      <td>Male</td>\n",
       "      <td>Europe</td>\n",
       "      <td>Discovery/Science</td>\n",
       "      <td>2000</td>\n",
       "      <td>23637.0</td>\n",
       "      <td>0.834614</td>\n",
       "      <td>0.565797</td>\n",
       "      <td>0.120890</td>\n",
       "      <td>0.437695</td>\n",
       "      <td>49549.837381</td>\n",
       "      <td>-116.410955</td>\n",
       "    </tr>\n",
       "    <tr>\n",
       "      <th>214</th>\n",
       "      <td>Male</td>\n",
       "      <td>Europe</td>\n",
       "      <td>Sports/Games</td>\n",
       "      <td>1900</td>\n",
       "      <td>82886.0</td>\n",
       "      <td>0.834614</td>\n",
       "      <td>0.565797</td>\n",
       "      <td>0.305511</td>\n",
       "      <td>0.429690</td>\n",
       "      <td>122931.293800</td>\n",
       "      <td>-114.214241</td>\n",
       "    </tr>\n",
       "    <tr>\n",
       "      <th>...</th>\n",
       "      <td>...</td>\n",
       "      <td>...</td>\n",
       "      <td>...</td>\n",
       "      <td>...</td>\n",
       "      <td>...</td>\n",
       "      <td>...</td>\n",
       "      <td>...</td>\n",
       "      <td>...</td>\n",
       "      <td>...</td>\n",
       "      <td>...</td>\n",
       "      <td>...</td>\n",
       "    </tr>\n",
       "    <tr>\n",
       "      <th>191</th>\n",
       "      <td>Male</td>\n",
       "      <td>Asia</td>\n",
       "      <td>Sports/Games</td>\n",
       "      <td>2000</td>\n",
       "      <td>45335.0</td>\n",
       "      <td>0.834614</td>\n",
       "      <td>0.088681</td>\n",
       "      <td>0.305511</td>\n",
       "      <td>0.437695</td>\n",
       "      <td>19626.747033</td>\n",
       "      <td>183.505211</td>\n",
       "    </tr>\n",
       "    <tr>\n",
       "      <th>206</th>\n",
       "      <td>Male</td>\n",
       "      <td>Europe</td>\n",
       "      <td>Leadership</td>\n",
       "      <td>1700</td>\n",
       "      <td>18615.0</td>\n",
       "      <td>0.834614</td>\n",
       "      <td>0.565797</td>\n",
       "      <td>0.257419</td>\n",
       "      <td>0.021701</td>\n",
       "      <td>5231.299766</td>\n",
       "      <td>185.042462</td>\n",
       "    </tr>\n",
       "    <tr>\n",
       "      <th>159</th>\n",
       "      <td>Male</td>\n",
       "      <td>America</td>\n",
       "      <td>Leadership</td>\n",
       "      <td>1800</td>\n",
       "      <td>31952.0</td>\n",
       "      <td>0.834614</td>\n",
       "      <td>0.281045</td>\n",
       "      <td>0.257419</td>\n",
       "      <td>0.091690</td>\n",
       "      <td>10978.896302</td>\n",
       "      <td>200.162798</td>\n",
       "    </tr>\n",
       "    <tr>\n",
       "      <th>143</th>\n",
       "      <td>Male</td>\n",
       "      <td>Africa</td>\n",
       "      <td>Sports/Games</td>\n",
       "      <td>2000</td>\n",
       "      <td>22403.0</td>\n",
       "      <td>0.834614</td>\n",
       "      <td>0.028205</td>\n",
       "      <td>0.305511</td>\n",
       "      <td>0.437695</td>\n",
       "      <td>6242.291922</td>\n",
       "      <td>204.544755</td>\n",
       "    </tr>\n",
       "    <tr>\n",
       "      <th>207</th>\n",
       "      <td>Male</td>\n",
       "      <td>Europe</td>\n",
       "      <td>Leadership</td>\n",
       "      <td>1800</td>\n",
       "      <td>58104.0</td>\n",
       "      <td>0.834614</td>\n",
       "      <td>0.565797</td>\n",
       "      <td>0.257419</td>\n",
       "      <td>0.091690</td>\n",
       "      <td>22102.621386</td>\n",
       "      <td>242.157118</td>\n",
       "    </tr>\n",
       "  </tbody>\n",
       "</table>\n",
       "<p>240 rows × 11 columns</p>\n",
       "</div>"
      ],
      "text/plain": [
       "        sex      reg                occ   era    count     sex_p     reg_p  \\\n",
       "209    Male   Europe         Leadership  2000  36335.0  0.834614  0.565797   \n",
       "213    Male   Europe       Sports/Games  1800   2856.0  0.834614  0.565797   \n",
       "94   Female   Europe       Sports/Games  1900   5043.0  0.165386  0.565797   \n",
       "203    Male   Europe  Discovery/Science  2000  23637.0  0.834614  0.565797   \n",
       "214    Male   Europe       Sports/Games  1900  82886.0  0.834614  0.565797   \n",
       "..      ...      ...                ...   ...      ...       ...       ...   \n",
       "191    Male     Asia       Sports/Games  2000  45335.0  0.834614  0.088681   \n",
       "206    Male   Europe         Leadership  1700  18615.0  0.834614  0.565797   \n",
       "159    Male  America         Leadership  1800  31952.0  0.834614  0.281045   \n",
       "143    Male   Africa       Sports/Games  2000  22403.0  0.834614  0.028205   \n",
       "207    Male   Europe         Leadership  1800  58104.0  0.834614  0.565797   \n",
       "\n",
       "        occ_p     era_p            exp  chi2_resid  \n",
       "209  0.257419  0.437695  105509.730645 -212.961560  \n",
       "213  0.305511  0.091690   26231.879031 -144.328883  \n",
       "94   0.305511  0.429690   24359.853424 -123.765343  \n",
       "203  0.120890  0.437695   49549.837381 -116.410955  \n",
       "214  0.305511  0.429690  122931.293800 -114.214241  \n",
       "..        ...       ...            ...         ...  \n",
       "191  0.305511  0.437695   19626.747033  183.505211  \n",
       "206  0.257419  0.021701    5231.299766  185.042462  \n",
       "159  0.257419  0.091690   10978.896302  200.162798  \n",
       "143  0.305511  0.437695    6242.291922  204.544755  \n",
       "207  0.257419  0.091690   22102.621386  242.157118  \n",
       "\n",
       "[240 rows x 11 columns]"
      ]
     },
     "execution_count": 31,
     "metadata": {},
     "output_type": "execute_result"
    }
   ],
   "source": [
    "long = tab.stack().reset_index().rename(columns={0: \"count\"})\n",
    "n = long[\"count\"].sum()\n",
    "vx = [\"sex\", \"reg\", \"occ\", \"era\"]\n",
    "vp = [\"%s_p\" % x for x in vx]\n",
    "for v in vx:\n",
    "    long[v+\"_p\"] = long.groupby(v)[\"count\"].transform(np.sum) / n\n",
    "long[\"exp\"] = n * long[vp].prod(1)\n",
    "long[\"chi2_resid\"] = (long[\"count\"] - long[\"exp\"]) / np.sqrt(long[\"exp\"])\n",
    "long = long.sort_values(by=\"chi2_resid\")\n",
    "long"
   ]
  },
  {
   "cell_type": "markdown",
   "id": "20",
   "metadata": {},
   "source": [
    "## Multiple Correspondence Analysis\n",
    "\n",
    "Multiple Correspondence Analysis (MCA) is a type of factor analysis for categorical data. A common use of MCA is to produce biplots that can be used to visualize the joint distribution of several categorical variables. Here we use MCA to understand the relationships among the contingency table of chacateristics of the subjects in the BHHT data.\n",
    "\n",
    "Below we fit factors to the data using multiple correspondence analysis (MCA)."
   ]
  },
  {
   "cell_type": "code",
   "execution_count": 53,
   "id": "21",
   "metadata": {},
   "outputs": [],
   "source": [
    "mca = prince.MCA(n_components=3)\n",
    "mca = mca.fit(dx)"
   ]
  },
  {
   "cell_type": "markdown",
   "id": "22",
   "metadata": {},
   "source": [
    "We can make an interactive plot of the column coordinates (there are too many objects to plot):"
   ]
  },
  {
   "cell_type": "code",
   "execution_count": 54,
   "id": "23",
   "metadata": {},
   "outputs": [
    {
     "data": {
      "text/html": [
       "\n",
       "<style>\n",
       "  #altair-viz-9965e74d54e44ee798cc9926808ececd.vega-embed {\n",
       "    width: 100%;\n",
       "    display: flex;\n",
       "  }\n",
       "\n",
       "  #altair-viz-9965e74d54e44ee798cc9926808ececd.vega-embed details,\n",
       "  #altair-viz-9965e74d54e44ee798cc9926808ececd.vega-embed details summary {\n",
       "    position: relative;\n",
       "  }\n",
       "</style>\n",
       "<div id=\"altair-viz-9965e74d54e44ee798cc9926808ececd\"></div>\n",
       "<script type=\"text/javascript\">\n",
       "  var VEGA_DEBUG = (typeof VEGA_DEBUG == \"undefined\") ? {} : VEGA_DEBUG;\n",
       "  (function(spec, embedOpt){\n",
       "    let outputDiv = document.currentScript.previousElementSibling;\n",
       "    if (outputDiv.id !== \"altair-viz-9965e74d54e44ee798cc9926808ececd\") {\n",
       "      outputDiv = document.getElementById(\"altair-viz-9965e74d54e44ee798cc9926808ececd\");\n",
       "    }\n",
       "\n",
       "    const paths = {\n",
       "      \"vega\": \"https://cdn.jsdelivr.net/npm/vega@5?noext\",\n",
       "      \"vega-lib\": \"https://cdn.jsdelivr.net/npm/vega-lib?noext\",\n",
       "      \"vega-lite\": \"https://cdn.jsdelivr.net/npm/vega-lite@5.20.1?noext\",\n",
       "      \"vega-embed\": \"https://cdn.jsdelivr.net/npm/vega-embed@6?noext\",\n",
       "    };\n",
       "\n",
       "    function maybeLoadScript(lib, version) {\n",
       "      var key = `${lib.replace(\"-\", \"\")}_version`;\n",
       "      return (VEGA_DEBUG[key] == version) ?\n",
       "        Promise.resolve(paths[lib]) :\n",
       "        new Promise(function(resolve, reject) {\n",
       "          var s = document.createElement('script');\n",
       "          document.getElementsByTagName(\"head\")[0].appendChild(s);\n",
       "          s.async = true;\n",
       "          s.onload = () => {\n",
       "            VEGA_DEBUG[key] = version;\n",
       "            return resolve(paths[lib]);\n",
       "          };\n",
       "          s.onerror = () => reject(`Error loading script: ${paths[lib]}`);\n",
       "          s.src = paths[lib];\n",
       "        });\n",
       "    }\n",
       "\n",
       "    function showError(err) {\n",
       "      outputDiv.innerHTML = `<div class=\"error\" style=\"color:red;\">${err}</div>`;\n",
       "      throw err;\n",
       "    }\n",
       "\n",
       "    function displayChart(vegaEmbed) {\n",
       "      vegaEmbed(outputDiv, spec, embedOpt)\n",
       "        .catch(err => showError(`Javascript Error: ${err.message}<br>This usually means there's a typo in your chart specification. See the javascript console for the full traceback.`));\n",
       "    }\n",
       "\n",
       "    if(typeof define === \"function\" && define.amd) {\n",
       "      requirejs.config({paths});\n",
       "      let deps = [\"vega-embed\"];\n",
       "      require(deps, displayChart, err => showError(`Error loading script: ${err.message}`));\n",
       "    } else {\n",
       "      maybeLoadScript(\"vega\", \"5\")\n",
       "        .then(() => maybeLoadScript(\"vega-lite\", \"5.20.1\"))\n",
       "        .then(() => maybeLoadScript(\"vega-embed\", \"6\"))\n",
       "        .catch(showError)\n",
       "        .then(() => displayChart(vegaEmbed));\n",
       "    }\n",
       "  })({\"config\": {\"view\": {\"continuousWidth\": 300, \"continuousHeight\": 300}}, \"layer\": [{\"mark\": {\"type\": \"circle\", \"size\": 50}, \"encoding\": {\"color\": {\"field\": \"variable\", \"type\": \"nominal\"}, \"tooltip\": [{\"field\": \"variable\", \"type\": \"nominal\"}, {\"field\": \"value\", \"type\": \"nominal\"}, {\"field\": \"component 0\", \"type\": \"quantitative\"}, {\"field\": \"component 1\", \"type\": \"quantitative\"}], \"x\": {\"axis\": {\"title\": \"component 0 \\u2014 16.73%\"}, \"field\": \"component 0\", \"scale\": {\"zero\": false}, \"type\": \"quantitative\"}, \"y\": {\"axis\": {\"title\": \"component 1 \\u2014 12.98%\"}, \"field\": \"component 1\", \"scale\": {\"zero\": false}, \"type\": \"quantitative\"}}, \"name\": \"view_4\"}], \"data\": {\"name\": \"data-d91b9e29808e62cd2f0a1c1c65b02280\"}, \"params\": [{\"name\": \"param_4\", \"select\": {\"type\": \"interval\", \"encodings\": [\"x\", \"y\"]}, \"bind\": \"scales\", \"views\": [\"view_4\"]}], \"$schema\": \"https://vega.github.io/schema/vega-lite/v5.20.1.json\", \"datasets\": {\"data-d91b9e29808e62cd2f0a1c1c65b02280\": [{\"component 0\": 0.23587131577556533, \"component 1\": 1.1099878357853181, \"component 2\": 0.2230838935958494, \"variable\": \"column\", \"value\": \"occ__Culture\", \"label\": \"occ__Culture\"}, {\"component 0\": -0.8361550228317293, \"component 1\": 0.1590825011901715, \"component 2\": -1.7441649474600316, \"variable\": \"column\", \"value\": \"occ__Discovery/Science\", \"label\": \"occ__Discovery/Science\"}, {\"component 0\": -1.0114511849236365, \"component 1\": -0.321581352072999, \"component 2\": 0.7609185935452988, \"variable\": \"column\", \"value\": \"occ__Leadership\", \"label\": \"occ__Leadership\"}, {\"component 0\": 0.9389916338244421, \"component 1\": -0.9407390023995471, \"component 2\": -0.18185093052999457, \"variable\": \"column\", \"value\": \"occ__Sports/Games\", \"label\": \"occ__Sports/Games\"}, {\"component 0\": 0.8992508615141678, \"component 1\": 1.3876769463911205, \"component 2\": 0.5119372099130303, \"variable\": \"column\", \"value\": \"sex__Female\", \"label\": \"sex__Female\"}, {\"component 0\": -0.17819400171294333, \"component 1\": -0.2749796733537484, \"component 2\": -0.10144459567884964, \"variable\": \"column\", \"value\": \"sex__Male\", \"label\": \"sex__Male\"}, {\"component 0\": -1.5286116640346346, \"component 1\": -0.2635924880632597, \"component 2\": 0.8740978672605189, \"variable\": \"column\", \"value\": \"era__1500\", \"label\": \"era__1500\"}, {\"component 0\": -1.4468906924830482, \"component 1\": -0.045451282106356225, \"component 2\": 1.9059559006483022, \"variable\": \"column\", \"value\": \"era__1600\", \"label\": \"era__1600\"}, {\"component 0\": -1.4432380633339246, \"component 1\": -0.05417781882205806, \"component 2\": 1.434106455654413, \"variable\": \"column\", \"value\": \"era__1700\", \"label\": \"era__1700\"}, {\"component 0\": -1.4473872157251888, \"component 1\": -0.3242204646244166, \"component 2\": 1.2843978305395127, \"variable\": \"column\", \"value\": \"era__1800\", \"label\": \"era__1800\"}, {\"component 0\": -0.4543926198190996, \"component 1\": 0.35513827627952277, \"component 2\": -0.6737434342348801, \"variable\": \"column\", \"value\": \"era__1900\", \"label\": \"era__1900\"}, {\"component 0\": 0.8852646916869846, \"component 1\": -0.2737131977929687, \"component 2\": 0.2485642952328756, \"variable\": \"column\", \"value\": \"era__2000\", \"label\": \"era__2000\"}]}}, {\"mode\": \"vega-lite\"});\n",
       "</script>"
      ],
      "text/plain": [
       "alt.LayerChart(...)"
      ]
     },
     "execution_count": 54,
     "metadata": {},
     "output_type": "execute_result"
    }
   ],
   "source": [
    "mca.plot(dx, show_row_markers=False, show_row_labels=False)"
   ]
  },
  {
   "cell_type": "markdown",
   "id": "24",
   "metadata": {},
   "source": [
    "We can make a more informative static version of this plot by coloring the levels of the same parent variable in a common color, and by connecting the points that correspond to ordered variables."
   ]
  },
  {
   "cell_type": "code",
   "execution_count": 55,
   "id": "25",
   "metadata": {},
   "outputs": [],
   "source": [
    "cols = {\"occ\": \"orange\", \"sex\": \"purple\", \"era\": \"navy\"}\n",
    "\n",
    "def mca_plot(mca, df, cols, jx, jy):\n",
    "    cc = mca.column_coordinates(df)\n",
    "    xmin, xmax = cc.iloc[:, jx].min(), cc.iloc[:, jx].max()\n",
    "    d = xmax - xmin\n",
    "    xmin -= 0.1*d\n",
    "    xmax += 0.1*d\n",
    "    ymin, ymax = cc.iloc[:, jy].min(), cc.iloc[:, jy].max()\n",
    "    d = ymax - ymin\n",
    "    ymin -= 0.1*d\n",
    "    ymax += 0.1*d\n",
    "\n",
    "    plt.clf()\n",
    "    plt.grid(True)\n",
    "    for k in cols.keys():\n",
    "        cx = cc[cc.index.str.startswith(k)]\n",
    "        if k == \"era\":\n",
    "            plt.plot(cx.iloc[:, jx], cx.iloc[:, jy], \"-\", color=cols[k])\n",
    "        for i in range(cx.shape[0]):\n",
    "            plt.text(cx.iloc[i, jx], cx.iloc[i, jy], cx.index[i], color=cols[k],\n",
    "                     ha=\"center\", va=\"center\")\n",
    "    plt.xlabel(\"Component %d\" % (jx + 1))\n",
    "    plt.ylabel(\"Component %d\" % (jy + 1))\n",
    "    plt.xlim(xmin, xmax)\n",
    "    plt.ylim(ymin, ymax)"
   ]
  },
  {
   "cell_type": "markdown",
   "id": "26",
   "metadata": {},
   "source": [
    "The most informative projection of the columns is spanned by the first two factors, as plotted below:"
   ]
  },
  {
   "cell_type": "code",
   "execution_count": 57,
   "id": "27",
   "metadata": {},
   "outputs": [
    {
     "data": {
      "image/png": "[encoded data removed]",
      "text/plain": [
       "<Figure size 640x480 with 1 Axes>"
      ]
     },
     "metadata": {},
     "output_type": "display_data"
    }
   ],
   "source": [
    "mca_plot(mca, dx, cols, 0, 1)\n",
    "plt.savefig('biplot')"
   ]
  },
  {
   "cell_type": "markdown",
   "id": "28",
   "metadata": {},
   "source": [
    "Recall that the angle between two vectors corresponding to categories of different variables encodes the correlation between the indicators for those variable categories.  This is illustrated by a few examples below."
   ]
  },
  {
   "cell_type": "code",
   "execution_count": 36,
   "id": "29",
   "metadata": {},
   "outputs": [
    {
     "data": {
      "text/plain": [
       "array([[1.        , 0.18608777],\n",
       "       [0.18608777, 1.        ]])"
      ]
     },
     "execution_count": 36,
     "metadata": {},
     "output_type": "execute_result"
    }
   ],
   "source": [
    "np.corrcoef(dx.occ==\"Culture\", dx.sex==\"Female\")"
   ]
  },
  {
   "cell_type": "code",
   "execution_count": 38,
   "id": "30",
   "metadata": {},
   "outputs": [
    {
     "data": {
      "text/plain": [
       "array([[ 1.       , -0.1010067],\n",
       "       [-0.1010067,  1.       ]])"
      ]
     },
     "execution_count": 38,
     "metadata": {},
     "output_type": "execute_result"
    }
   ],
   "source": [
    "np.corrcoef(dx.occ==\"Leadership\", dx.sex==\"Female\")"
   ]
  },
  {
   "cell_type": "code",
   "execution_count": 39,
   "id": "31",
   "metadata": {},
   "outputs": [
    {
     "data": {
      "text/plain": [
       "array([[1.        , 0.10044578],\n",
       "       [0.10044578, 1.        ]])"
      ]
     },
     "execution_count": 39,
     "metadata": {},
     "output_type": "execute_result"
    }
   ],
   "source": [
    "np.corrcoef(dx.reg==\"Oceania\", dx.occ==\"Sports/Games\")"
   ]
  },
  {
   "cell_type": "code",
   "execution_count": 40,
   "id": "32",
   "metadata": {},
   "outputs": [
    {
     "data": {
      "text/plain": [
       "array([[1.        , 0.20606912],\n",
       "       [0.20606912, 1.        ]])"
      ]
     },
     "execution_count": 40,
     "metadata": {},
     "output_type": "execute_result"
    }
   ],
   "source": [
    "np.corrcoef(dx.occ==\"Leadership\", dx.era==\"1800\")"
   ]
  },
  {
   "cell_type": "markdown",
   "id": "33",
   "metadata": {},
   "source": [
    "Below we plot factors 2 and 3 (these are the third and fourth factors since Python counts from zero).  These capture an independent projection of the data from factors 0 and 1."
   ]
  },
  {
   "cell_type": "code",
   "execution_count": 41,
   "id": "34",
   "metadata": {},
   "outputs": [
    {
     "data": {
      "image/png": "[encoded data removed]",
      "text/plain": [
       "<Figure size 640x480 with 1 Axes>"
      ]
     },
     "metadata": {},
     "output_type": "display_data"
    }
   ],
   "source": [
    "mca_plot(mca, dx, cols, 2, 3)"
   ]
  },
  {
   "cell_type": "markdown",
   "id": "35",
   "metadata": {},
   "source": [
    "In an MCA plot, information about the variables is encoded both in the angles between variable scores, and in the magnitudes of the variable scores.  Variables that are uncorrelated with all other variables have very short magnitudes.  To demonstrate this, we create a variable that is independent of the others and include it in the MCA."
   ]
  },
  {
   "cell_type": "code",
   "execution_count": 42,
   "id": "36",
   "metadata": {},
   "outputs": [
    {
     "data": {
      "image/png": "[encoded data removed]",
      "text/plain": [
       "<Figure size 640x480 with 1 Axes>"
      ]
     },
     "metadata": {},
     "output_type": "display_data"
    }
   ],
   "source": [
    "dx1 = dx.copy()\n",
    "dx1[\"fake\"] = np.random.choice([0, 1], dx.shape[0])\n",
    "cols1 = cols.copy()\n",
    "cols1[\"fake\"] = \"red\"\n",
    "\n",
    "mca1 = prince.MCA(n_components=4)\n",
    "mca1 = mca1.fit(dx1)\n",
    "mca1.transform(dx1)\n",
    "mca_plot(mca1, dx1, cols1, 0, 1)"
   ]
  }
 ],
 "metadata": {
  "jupytext": {
   "cell_metadata_filter": "-all",
   "main_language": "python",
   "notebook_metadata_filter": "-all"
  },
  "kernelspec": {
   "display_name": "Python 3 (ipykernel)",
   "language": "python",
   "name": "python3"
  },
  "language_info": {
   "codemirror_mode": {
    "name": "ipython",
    "version": 3
   },
   "file_extension": ".py",
   "mimetype": "text/x-python",
   "name": "python",
   "nbconvert_exporter": "python",
   "pygments_lexer": "ipython3",
   "version": "3.11.9"
  }
 },
 "nbformat": 4,
 "nbformat_minor": 5
}
