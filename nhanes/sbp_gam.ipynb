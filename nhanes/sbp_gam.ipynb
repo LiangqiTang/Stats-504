{
 "cells": [
  {
   "cell_type": "markdown",
   "id": "0",
   "metadata": {},
   "source": [
    "# Understanding predictors of SBP using generalized additive modeling (GAM)\n",
    "\n",
    "The python implementation of GAM is not very complete, but you can do a few things."
   ]
  },
  {
   "cell_type": "code",
   "execution_count": null,
   "id": "1",
   "metadata": {},
   "outputs": [],
   "source": [
    "import numpy as np\n",
    "import pandas as pd\n",
    "from statsmodels.gam.api import GLMGam, BSplines\n",
    "import matplotlib.pyplot as plt\n",
    "from statsmodels.nonparametric.smoothers_lowess import lowess\n",
    "from matplotlib.backends.backend_pdf import PdfPages\n",
    "from read import *"
   ]
  },
  {
   "cell_type": "markdown",
   "id": "2",
   "metadata": {},
   "source": []
  },
  {
   "cell_type": "code",
   "execution_count": null,
   "id": "3",
   "metadata": {},
   "outputs": [],
   "source": [
    "vn = [\"BPXSY1\", \"RIAGENDR\", \"RIDAGEYR\", \"BMXBMI\"]\n",
    "dx = df.loc[:, vn].dropna()"
   ]
  },
  {
   "cell_type": "markdown",
   "id": "4",
   "metadata": {},
   "source": [
    "Build spline bases for two quantitative variables to include as smooth terms in a GAM predicting SBP."
   ]
  },
  {
   "cell_type": "code",
   "execution_count": null,
   "id": "5",
   "metadata": {},
   "outputs": [],
   "source": [
    "x_spline = dx[[\"RIDAGEYR\", \"BMXBMI\"]]\n",
    "bs = BSplines(x_spline, df=[12, 10], degree=[3, 3])"
   ]
  },
  {
   "cell_type": "markdown",
   "id": "6",
   "metadata": {},
   "source": [
    "Fit a GAM including additive effects for age, BMI, and sex."
   ]
  },
  {
   "cell_type": "code",
   "execution_count": null,
   "id": "7",
   "metadata": {
    "lines_to_next_cell": 1
   },
   "outputs": [],
   "source": [
    "f0 = \"BPXSY1 ~ RIDAGEYR + BMXBMI + RIAGENDR\"\n",
    "alpha = np.r_[20., 20.]\n",
    "m0 = GLMGam.from_formula(f0, data=dx, smoother=bs, alpha=alpha)\n",
    "r0 = m0.fit()"
   ]
  },
  {
   "cell_type": "markdown",
   "id": "8",
   "metadata": {},
   "source": [
    "Create a component plus residual plot of the GAM specied by the GAM `res`, for the variable with index `idx`."
   ]
  },
  {
   "cell_type": "code",
   "execution_count": null,
   "id": "9",
   "metadata": {
    "lines_to_next_cell": 1
   },
   "outputs": [],
   "source": [
    "def cpr_plot(res, idx):\n",
    "    from statsmodels.graphics.utils import create_mpl_ax\n",
    "    mod = res.model\n",
    "    smoothers = mod.smoother.smoothers\n",
    "    x = smoothers[idx].x\n",
    "    y_est, se = res.partial_values(idx)\n",
    "    ii = np.argsort(x)\n",
    "    x = x[ii]\n",
    "    y_est = y_est[ii]\n",
    "    se = se[ii]\n",
    "    xname = smoothers[idx].variable_name\n",
    "    y_est += res.params[xname] * x\n",
    "    fig, ax = create_mpl_ax(None)\n",
    "    ax.grid(True)\n",
    "    ax.plot(x, y_est + res.resid_working.iloc[ii], \"o\", color=\"grey\", alpha=0.2)\n",
    "    ax.plot(x, y_est, \"-\")\n",
    "    ax.set_xlabel(xname)\n",
    "    return fig"
   ]
  },
  {
   "cell_type": "code",
   "execution_count": null,
   "id": "10",
   "metadata": {},
   "outputs": [],
   "source": [
    "fig = cpr_plot(r0, 0)\n",
    "fig.axes[0].set_ylabel(\"BPXSY1\")"
   ]
  },
  {
   "cell_type": "code",
   "execution_count": null,
   "id": "11",
   "metadata": {},
   "outputs": [],
   "source": [
    "fig = cpr_plot(r0, 1)\n",
    "fig.axes[0].set_ylabel(\"BPXSY1\")\n",
    "fig.axes[0].set_xlim(10, 50)"
   ]
  },
  {
   "cell_type": "markdown",
   "id": "12",
   "metadata": {},
   "source": [
    "This can be used to get a sense of good tuning parameters. It is very slow."
   ]
  },
  {
   "cell_type": "code",
   "execution_count": null,
   "id": "13",
   "metadata": {},
   "outputs": [],
   "source": [
    "# alpha = m0.select_penweight(niter=20)[0]"
   ]
  }
 ],
 "metadata": {
  "jupytext": {
   "cell_metadata_filter": "-all",
   "main_language": "python",
   "notebook_metadata_filter": "-all"
  },
  "kernelspec": {
   "display_name": "Python 3 (ipykernel)",
   "language": "python",
   "name": "python3"
  },
  "language_info": {
   "codemirror_mode": {
    "name": "ipython",
    "version": 3
   },
   "file_extension": ".py",
   "mimetype": "text/x-python",
   "name": "python",
   "nbconvert_exporter": "python",
   "pygments_lexer": "ipython3",
   "version": "3.10.9"
  }
 },
 "nbformat": 4,
 "nbformat_minor": 5
}
