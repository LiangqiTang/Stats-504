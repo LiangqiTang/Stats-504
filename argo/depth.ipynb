{
 "cells": [
  {
   "cell_type": "markdown",
   "id": "0",
   "metadata": {},
   "source": [
    "# ARGO study\n",
    "\n",
    "This notebook demonstrates how we can use the concept of [data depth](https://arxiv.org/abs/1207.4988) to identify central and outlying points in the ARGO data.\n",
    "\n",
    "Quite a bit of processing is needed to prepare the data for these analyses.  You should review the get_data.py, prep.py, and read.py scripts to understand how this is done."
   ]
  },
  {
   "cell_type": "code",
   "execution_count": null,
   "id": "1",
   "metadata": {},
   "outputs": [],
   "source": [
    "import numpy as np\n",
    "import cartopy.crs as ccrs\n",
    "import matplotlib.pyplot as plt\n",
    "from scipy.interpolate import interp1d\n",
    "from statsmodels.nonparametric.smoothers_lowess import lowess\n",
    "import pandas as pd\n",
    "from read import *"
   ]
  },
  {
   "cell_type": "markdown",
   "id": "2",
   "metadata": {},
   "source": [
    "The temperature profiles are in the columns of the array 'temp', and the salinity profiles are in the columns of the array 'psal'.  Each profile is a vector of 100 values, corresponding to the pressures in the vector 'pressure'."
   ]
  },
  {
   "cell_type": "code",
   "execution_count": null,
   "id": "3",
   "metadata": {},
   "outputs": [],
   "source": [
    "print(temp.shape)\n",
    "print(psal.shape)"
   ]
  },
  {
   "cell_type": "markdown",
   "id": "4",
   "metadata": {},
   "source": [
    "The columns of 'temp' and 'psal' are paired (they are collected at the same location and time). "
   ]
  },
  {
   "cell_type": "code",
   "execution_count": null,
   "id": "5",
   "metadata": {},
   "outputs": [],
   "source": [
    "plt.plot(temp[:, 133], psal[:, 133])\n",
    "plt.grid(True)\n",
    "plt.xlabel(\"Temperature (C)\")\n",
    "plt.ylabel(\"Salinity\")"
   ]
  },
  {
   "cell_type": "markdown",
   "id": "6",
   "metadata": {},
   "source": [
    "The mean temperature and pressure are plotted below.  These plots are not very informative about the overall distribution of the data."
   ]
  },
  {
   "cell_type": "code",
   "execution_count": null,
   "id": "7",
   "metadata": {},
   "outputs": [],
   "source": [
    "plt.clf()\n",
    "plt.grid(True)\n",
    "plt.plot(pressure, temp.mean(1))\n",
    "plt.xlabel(\"Pressure (dbar)\", size=15)\n",
    "plt.ylabel(\"Mean temperature (C)\", size=15)"
   ]
  },
  {
   "cell_type": "code",
   "execution_count": null,
   "id": "8",
   "metadata": {},
   "outputs": [],
   "source": [
    "plt.clf()\n",
    "plt.grid(True)\n",
    "plt.plot(pressure, psal.mean(1))\n",
    "plt.xlabel(\"Pressure (dbar)\", size=15)\n",
    "plt.ylabel(\"Mean salinity (psal)\", size=15)"
   ]
  },
  {
   "cell_type": "markdown",
   "id": "9",
   "metadata": {},
   "source": [
    "The depth calculations are somewhat expensive so we subset the data for speed."
   ]
  },
  {
   "cell_type": "code",
   "execution_count": null,
   "id": "10",
   "metadata": {
    "lines_to_next_cell": 1
   },
   "outputs": [],
   "source": [
    "ii = np.random.choice(np.arange(temp.shape[1]), 5000, replace=False)\n",
    "tempx = temp[:, ii]\n",
    "psalx = psal[:, ii]\n",
    "latx = lat[ii]\n",
    "lonx = lon[ii]\n",
    "dayx = day[ii]"
   ]
  },
  {
   "cell_type": "markdown",
   "id": "11",
   "metadata": {},
   "source": [
    "Calculate the spatial depth of vector v relative to all columns of x."
   ]
  },
  {
   "cell_type": "code",
   "execution_count": null,
   "id": "12",
   "metadata": {
    "lines_to_next_cell": 1
   },
   "outputs": [],
   "source": [
    "def sdepth(v, x):\n",
    "    p, n = x.shape\n",
    "    z = x - v[:, None]\n",
    "    zn = np.sqrt((z**2).sum(0))\n",
    "    zn[np.abs(zn) < 1e-12] = np.inf\n",
    "    z /= zn\n",
    "    u = z.mean(1)\n",
    "    return 1 - np.sqrt(np.sum(u**2))"
   ]
  },
  {
   "cell_type": "markdown",
   "id": "13",
   "metadata": {},
   "source": [
    "Calculate the L2 depth of vector v relative to all columns of x."
   ]
  },
  {
   "cell_type": "code",
   "execution_count": null,
   "id": "14",
   "metadata": {
    "lines_to_next_cell": 1
   },
   "outputs": [],
   "source": [
    "def l2depth(v, x):\n",
    "    p, n = x.shape\n",
    "    z = x - v[:, None]\n",
    "    zn = np.sqrt((z**2).sum(0))\n",
    "    d = zn.mean()\n",
    "    return 1e6 / (1 + d)"
   ]
  },
  {
   "cell_type": "markdown",
   "id": "15",
   "metadata": {},
   "source": [
    "Estimate the band depth of vector v relative to all columns of x, using 500 random draws to estimate the band depth."
   ]
  },
  {
   "cell_type": "code",
   "execution_count": null,
   "id": "16",
   "metadata": {
    "lines_to_next_cell": 1
   },
   "outputs": [],
   "source": [
    "def bdepth(v, x, m=500):\n",
    "    p, n = x.shape\n",
    "    t = 0.0\n",
    "    for k in range(m):\n",
    "        ii = np.random.choice(n, 3, replace=False)\n",
    "        z = x[:, ii]\n",
    "        mn = z.min(1)\n",
    "        mx = z.max(1)\n",
    "        t += np.mean((v >= mn) & (v <= mx))\n",
    "    t /= m\n",
    "    return t"
   ]
  },
  {
   "cell_type": "markdown",
   "id": "17",
   "metadata": {},
   "source": [
    "Calculate the depth of every column of 'x' relative to the other columns, using 'dfun' as the depth function."
   ]
  },
  {
   "cell_type": "code",
   "execution_count": null,
   "id": "18",
   "metadata": {
    "lines_to_next_cell": 1
   },
   "outputs": [],
   "source": [
    "def depths(x, dfun, progress=False):\n",
    "    p, n = x.shape\n",
    "    d = np.zeros(n)\n",
    "    for i in range(n):\n",
    "        if progress and (i % 200 == 0):\n",
    "            print(i, end=\"\", flush=True)\n",
    "            print(\".\", end=\"\", flush=True)\n",
    "        d[i] = dfun(x[:, i], x)\n",
    "    if progress:\n",
    "        print(\"done\", flush=True)\n",
    "    return d"
   ]
  },
  {
   "cell_type": "markdown",
   "id": "19",
   "metadata": {},
   "source": [
    "The function 'depth_cut' partitions the depth values into bins based on quantiles of the depth statistics, and plots a small random selection of profiles from each bin.  The arguments to this function are as follows:\n",
    "\n",
    "* 'dpt' is a vector of depths \n",
    "* 'profiles' is an array of profiles (each column is a profile)\n",
    "* 'q' is the number of bins into which the profiles are partitioned \n",
    "* 'pressure' is the pressures at which the profiles are recorded\n",
    "* 'ylab' is a label for the vertical axis of the plot"
   ]
  },
  {
   "cell_type": "code",
   "execution_count": null,
   "id": "20",
   "metadata": {
    "lines_to_next_cell": 1
   },
   "outputs": [],
   "source": [
    "def depth_cut(dpt, profiles, q, pressure, ylab):\n",
    "    dpq = pd.qcut(dpt, q)\n",
    "    for (i,iv) in enumerate(dpq.categories):\n",
    "        ii = np.flatnonzero(dpq == iv)\n",
    "        jj = np.random.choice(ii, 10)\n",
    "\n",
    "        plt.clf()\n",
    "        plt.figure(figsize=(6.4,4.8))\n",
    "        plt.grid(True)\n",
    "        plt.title(\"Depth quantile %d %s\" % (i + 1, str(iv)))\n",
    "        for j in jj:\n",
    "            plt.plot(pressure, profiles[:, j], \"-\", color=\"grey\")\n",
    "        if ylab == \"Temperature\":\n",
    "            plt.ylim(-5, 35)\n",
    "        else:\n",
    "            plt.ylim(32, 37)\n",
    "        plt.ylabel(ylab, size=15)\n",
    "        plt.xlabel(\"Pressure\", size=15)\n",
    "        plt.show()"
   ]
  },
  {
   "cell_type": "code",
   "execution_count": null,
   "id": "21",
   "metadata": {},
   "outputs": [],
   "source": [
    "dp_temp = depths(tempx, sdepth, progress=True)\n",
    "dp_psal = depths(psalx, sdepth, progress=True)"
   ]
  },
  {
   "cell_type": "markdown",
   "id": "22",
   "metadata": {},
   "source": [
    "Visualize the profiles as arranged according to their depth values."
   ]
  },
  {
   "cell_type": "code",
   "execution_count": null,
   "id": "23",
   "metadata": {
    "lines_to_next_cell": 1
   },
   "outputs": [],
   "source": [
    "q = 10\n",
    "depth_cut(dp_temp, tempx, q, pressure, \"Temperature\")"
   ]
  },
  {
   "cell_type": "code",
   "execution_count": null,
   "id": "24",
   "metadata": {},
   "outputs": [],
   "source": [
    "depth_cut(dp_psal, psalx, q, pressure, \"Salinity\")"
   ]
  },
  {
   "cell_type": "markdown",
   "id": "25",
   "metadata": {},
   "source": [
    "The function 'depth_correlates' aims to undertand how the depth values are related to potential explanatory variables, of which we have three: latitude, longitude, and day of year.\n",
    "\n",
    "The function plots the estimated conditional mean log depth relative to each explanatory variable . The bands in these plots are +/- f times the mean absolute deviation from the conditional mean."
   ]
  },
  {
   "cell_type": "code",
   "execution_count": null,
   "id": "26",
   "metadata": {
    "lines_to_next_cell": 1
   },
   "outputs": [],
   "source": [
    "def depth_correlates(dp, lat, lon, day, title, f=2):\n",
    "    dpx = pd.DataFrame({\"depth\": np.log(dp), \"lat\": lat, \"lon\": lon, \"day\": day})\n",
    "    vn = {\"lat\": \"Latitude\", \"lon\": \"Longitude\", \"day\": \"Day\"}\n",
    "    for ev in [\"lat\", \"lon\", \"day\"]:\n",
    "\n",
    "        # A grid of 100 values covering the range of the\n",
    "        # explanatory variable.\n",
    "        xx = np.linspace(dpx[ev].min(), dpx[ev].max(), 100)\n",
    "\n",
    "        # Use loess to regress depth on the explanatory variable\n",
    "        m = lowess(dpx[\"depth\"], dpx[ev])\n",
    "        dh = interp1d(m[:, 0], m[:, 1])(xx)\n",
    "\n",
    "        # Use loess to regress the absolute depth residuals\n",
    "        # on the explanatory variable\n",
    "        aresid = np.abs(m[:, 1] - dpx[\"depth\"])\n",
    "        r = lowess(aresid, dpx[ev])\n",
    "        dq = interp1d(r[:, 0], r[:, 1])(xx)\n",
    "\n",
    "        plt.clf()\n",
    "        plt.title(title)\n",
    "        plt.grid(True)\n",
    "        plt.plot(xx, dh, \"-\")\n",
    "        plt.fill_between(xx, dh-f*dq, dh+f*dq, color=\"grey\", alpha=0.5)\n",
    "        plt.xlabel(vn[ev], size=15)\n",
    "        plt.ylabel(\"Depth\", size=15)\n",
    "        plt.show()"
   ]
  },
  {
   "cell_type": "code",
   "execution_count": null,
   "id": "27",
   "metadata": {},
   "outputs": [],
   "source": [
    "depth_correlates(dp_temp, latx, lonx, dayx, \"Temperature\")"
   ]
  },
  {
   "cell_type": "code",
   "execution_count": null,
   "id": "28",
   "metadata": {},
   "outputs": [],
   "source": [
    "depth_correlates(dp_psal, latx, lonx, dayx, \"Salinity\")"
   ]
  },
  {
   "cell_type": "markdown",
   "id": "29",
   "metadata": {},
   "source": [
    "The following plots show the results only for the northern hemisphere."
   ]
  },
  {
   "cell_type": "code",
   "execution_count": null,
   "id": "30",
   "metadata": {},
   "outputs": [],
   "source": [
    "ii = np.flatnonzero(latx > 0)\n",
    "depth_correlates(dp_temp[ii], latx[ii], lonx[ii], dayx[ii], \"Northern hemisphere temperature\")"
   ]
  },
  {
   "cell_type": "code",
   "execution_count": null,
   "id": "31",
   "metadata": {},
   "outputs": [],
   "source": [
    "depth_correlates(dp_psal[ii], latx[ii], lonx[ii], dayx[ii], \"Northern hemisphere salinity\")"
   ]
  },
  {
   "cell_type": "markdown",
   "id": "32",
   "metadata": {},
   "source": [
    "The following plots show the results only for the southern hemisphere."
   ]
  },
  {
   "cell_type": "code",
   "execution_count": null,
   "id": "33",
   "metadata": {
    "lines_to_next_cell": 1
   },
   "outputs": [],
   "source": [
    "ii = np.flatnonzero(latx < 0)\n",
    "depth_correlates(dp_temp[ii], latx[ii], lonx[ii], dayx[ii], \"Southern hemisphere temperature\")"
   ]
  },
  {
   "cell_type": "code",
   "execution_count": null,
   "id": "34",
   "metadata": {},
   "outputs": [],
   "source": [
    "depth_correlates(dp_psal[ii], latx[ii], lonx[ii], dayx[ii], \"Southern hemisphere salinity\")"
   ]
  },
  {
   "cell_type": "markdown",
   "id": "35",
   "metadata": {},
   "source": [
    "The function 'plot_depth_map' plots the profile locations on a map, indicating which are the most shallow and which are the most deep."
   ]
  },
  {
   "cell_type": "code",
   "execution_count": null,
   "id": "36",
   "metadata": {
    "lines_to_next_cell": 1
   },
   "outputs": [],
   "source": [
    "def plot_depth_map(dp, title):\n",
    "    plt.clf()\n",
    "    plt.figure(figsize=(8, 7.25))\n",
    "    ax = plt.axes([0.05, 0.05, 0.84, 0.88], projection=ccrs.PlateCarree(central_longitude=180))\n",
    "    ax.coastlines()\n",
    "    ax.set_extent([115, 290, -70, 60])\n",
    "\n",
    "    qq = np.argsort(np.argsort(dp)) / len(dp)\n",
    "    ii = np.flatnonzero(qq < 0.1)\n",
    "    plt.scatter(lonx[ii], latx[ii], s=8, color=\"blue\", label=\"shallow\",\n",
    "                transform=ccrs.Geodetic())\n",
    "    ii = np.flatnonzero(qq > 0.9)\n",
    "    plt.scatter(lonx[ii], latx[ii], s=8, color=\"red\", label=\"deep\",\n",
    "                transform=ccrs.Geodetic())\n",
    "\n",
    "    ha,lb = plt.gca().get_legend_handles_labels()\n",
    "    leg = plt.figlegend(ha, lb, loc=\"center right\", handletextpad=0.01)\n",
    "    leg.draw_frame(False)\n",
    "\n",
    "    plt.title(title)\n",
    "    plt.show()"
   ]
  },
  {
   "cell_type": "code",
   "execution_count": null,
   "id": "37",
   "metadata": {},
   "outputs": [],
   "source": [
    "plot_depth_map(dp_temp, \"Temperature\")"
   ]
  },
  {
   "cell_type": "code",
   "execution_count": null,
   "id": "38",
   "metadata": {},
   "outputs": [],
   "source": [
    "plot_depth_map(dp_psal, \"Salinity\")"
   ]
  }
 ],
 "metadata": {
  "jupytext": {
   "cell_metadata_filter": "-all",
   "main_language": "python",
   "notebook_metadata_filter": "-all"
  },
  "kernelspec": {
   "display_name": "Python 3 (ipykernel)",
   "language": "python",
   "name": "python3"
  },
  "language_info": {
   "codemirror_mode": {
    "name": "ipython",
    "version": 3
   },
   "file_extension": ".py",
   "mimetype": "text/x-python",
   "name": "python",
   "nbconvert_exporter": "python",
   "pygments_lexer": "ipython3",
   "version": "3.10.9"
  }
 },
 "nbformat": 4,
 "nbformat_minor": 5
}
