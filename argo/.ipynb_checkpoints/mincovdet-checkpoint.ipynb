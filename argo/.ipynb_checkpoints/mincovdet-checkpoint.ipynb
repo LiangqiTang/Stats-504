{
 "cells": [
  {
   "cell_type": "markdown",
   "id": "0",
   "metadata": {},
   "source": [
    "# Robust covariance estimators\n",
    "\n",
    "In this notebook we estimate the covariance matrix of the temperature and salinity profiles in the Argo data using the [minimum covariance determinant](https://scikit-learn.org/stable/modules/covariance.html#robust-covariance) appproach (MCD).  This estimator is robust to outliers and can be used to identify unusual observations in large collections of high-dimensional data."
   ]
  },
  {
   "cell_type": "code",
   "execution_count": null,
   "id": "1",
   "metadata": {},
   "outputs": [],
   "source": [
    "import numpy as np\n",
    "import matplotlib.pyplot as plt\n",
    "import matplotlib\n",
    "import cartopy.crs as ccrs\n",
    "from sklearn.covariance import MinCovDet\n",
    "from statsmodels.nonparametric.smoothers_lowess import lowess\n",
    "from read import *"
   ]
  },
  {
   "cell_type": "markdown",
   "id": "2",
   "metadata": {},
   "source": [
    "Each profile is interpolated onto a grid of 100 pressure values, and we have many profiles."
   ]
  },
  {
   "cell_type": "code",
   "execution_count": null,
   "id": "3",
   "metadata": {},
   "outputs": [],
   "source": [
    "temp.shape"
   ]
  },
  {
   "cell_type": "markdown",
   "id": "4",
   "metadata": {},
   "source": [
    "Subsample for speed."
   ]
  },
  {
   "cell_type": "code",
   "execution_count": null,
   "id": "5",
   "metadata": {},
   "outputs": [],
   "source": [
    "m = 20000\n",
    "n = temp.shape[1]\n",
    "ii = np.random.choice(n, m, replace=False)\n",
    "temp = temp[:, ii]\n",
    "psal = psal[:, ii]\n",
    "lat = lat[ii]\n",
    "lon = lon[ii]\n",
    "day = day[ii]"
   ]
  },
  {
   "cell_type": "markdown",
   "id": "6",
   "metadata": {
    "lines_to_next_cell": 1
   },
   "source": []
  },
  {
   "cell_type": "code",
   "execution_count": null,
   "id": "7",
   "metadata": {
    "lines_to_next_cell": 1
   },
   "outputs": [],
   "source": [
    "def run_mcd(X, label):\n",
    "\n",
    "    # Run the fast MCD algorithm to estimate the covariance matrix.\n",
    "    cc = MinCovDet().fit(X)\n",
    "\n",
    "    # Compare the estimated means\n",
    "    plt.clf()\n",
    "    plt.grid(True)\n",
    "    plt.plot(pressure, cc.location_, label=\"Robust mean\")\n",
    "    plt.plot(pressure, cc.raw_location_, label=\"Sample mean\")\n",
    "    plt.xlabel(\"Pressure\", size=15)\n",
    "    plt.ylabel(\"Mean %s\" % label.lower(), size=15)\n",
    "    ha, lb = plt.gca().get_legend_handles_labels()\n",
    "    leg = plt.legend(ha, lb, loc=\"upper right\")\n",
    "    plt.show()\n",
    "\n",
    "    # Get the MCD covariance matrix\n",
    "    cv = cc.covariance_\n",
    "\n",
    "    # Get the conventional covariance matrix\n",
    "    c0 = cc.raw_covariance_\n",
    "\n",
    "    # Compare the spectra of the two covariance matrix estimates\n",
    "    a,_ = np.linalg.eigh(cv)\n",
    "    b,_ = np.linalg.eigh(c0)\n",
    "    plt.clf()\n",
    "    plt.grid(True)\n",
    "    plt.plot(np.log(a), np.log(b), \"-o\")\n",
    "    plt.xlabel(\"MCD covariance\", size=15)\n",
    "    plt.ylabel(\"Conventional covariance\", size=15)\n",
    "    plt.title(\"Comparison of spectra for %s\" % label.lower())\n",
    "    plt.show()\n",
    "\n",
    "    # Get the squared distance of each observation to the center of the\n",
    "    # distribution using the MCD covariance.\n",
    "    dmcd = cc.mahalanobis(X)\n",
    "\n",
    "    # Get the squared distance of each observation to the center\n",
    "    # of the distribution using the conventional covariance.\n",
    "    Xc = X - cc.location_\n",
    "    dcov = (Xc * np.linalg.solve(c0, Xc.T).T).sum(1)\n",
    "\n",
    "    plt.clf()\n",
    "    plt.grid(True)\n",
    "    plt.title(\"Log distances to center for %s\" % label.lower())\n",
    "    plt.plot(np.log(dmcd), np.log(dcov), \"o\", alpha=0.2)\n",
    "    plt.xlabel(\"Log MCD distance to center\", size=15)\n",
    "    plt.ylabel(\"Log conventional distance to center\", size=15)\n",
    "    plt.show()\n",
    "\n",
    "    # Plot outlying points.\n",
    "    for di in [dmcd, dcov]:\n",
    "        ii = np.argsort(-di)\n",
    "\n",
    "        # Plot the outlier profiles\n",
    "        plt.clf()\n",
    "        plt.grid(True)\n",
    "        plt.title(\"%s outliers\" % (\"MCD\" if di is dmcd else \"Sample covariance\"))\n",
    "        plt.plot(pressure, cc.location_, label=\"Robust mean\")\n",
    "        for i in ii[0:15]:\n",
    "            plt.plot(pressure, X[i, :], color=\"grey\", alpha=0.8)\n",
    "        ha, lb = plt.gca().get_legend_handles_labels()\n",
    "        leg = plt.legend(ha, lb, loc=\"upper right\")\n",
    "        plt.xlabel(\"Pressure\", size=15)\n",
    "        plt.ylabel(label, size=15)\n",
    "        plt.show()\n",
    "        \n",
    "        # Plot the locations of the outliers\n",
    "        plt.clf()\n",
    "        plt.grid(True)\n",
    "        plt.plot(lon, lat, \"o\", color=\"grey\", alpha=0.3, rasterized=True)\n",
    "        plt.plot(lon[ii[0:15]], lat[ii[0:15]], \"o\", color=\"red\")\n",
    "        plt.xlabel(\"Longitude\", size=15)\n",
    "        plt.ylabel(\"Latitude\", size=15)\n",
    "        plt.show()\n",
    "        \n",
    "    return cc"
   ]
  },
  {
   "cell_type": "code",
   "execution_count": null,
   "id": "8",
   "metadata": {},
   "outputs": [],
   "source": [
    "cc_temp = run_mcd(temp.T, \"Temperature\")"
   ]
  },
  {
   "cell_type": "code",
   "execution_count": null,
   "id": "9",
   "metadata": {},
   "outputs": [],
   "source": [
    "cc_psal = run_mcd(psal.T, \"Salinity\")"
   ]
  },
  {
   "cell_type": "code",
   "execution_count": null,
   "id": "10",
   "metadata": {},
   "outputs": [],
   "source": [
    "def plot_md_map(dp, title):\n",
    "    plt.clf()\n",
    "    plt.figure(figsize=(8, 7.25))\n",
    "    ax = plt.axes([0.05, 0.05, 0.92, 0.88], projection=ccrs.PlateCarree(central_longitude=180))\n",
    "    ax.coastlines()\n",
    "    ax.set_extent([115, 290, -70, 60])\n",
    "\n",
    "    qq = np.argsort(np.argsort(dp)) / len(dp)\n",
    "    qq = np.floor(5*qq).astype(int)\n",
    "    for i in range(5):\n",
    "        ii = np.flatnonzero(qq == i)\n",
    "        plt.scatter(lon[ii], lat[ii], s=8, transform=ccrs.Geodetic(), label=str(i+1))\n",
    "\n",
    "    ha,lb = plt.gca().get_legend_handles_labels()\n",
    "    leg = plt.figlegend(ha, lb, loc=\"center right\", handletextpad=0.01)\n",
    "    leg.draw_frame(False)\n",
    "\n",
    "    plt.title(title)\n",
    "    plt.show()"
   ]
  },
  {
   "cell_type": "markdown",
   "id": "11",
   "metadata": {},
   "source": [
    "We can use the covariance estimate to estimate Mahalanobis depths.  We then stratify the profiles based on depth and plot them by location on a map."
   ]
  },
  {
   "cell_type": "code",
   "execution_count": null,
   "id": "12",
   "metadata": {},
   "outputs": [],
   "source": [
    "d_temp = 1 / (1 + cc_temp.mahalanobis(temp.T))\n",
    "plot_md_map(d_temp, \"Temperature\")"
   ]
  },
  {
   "cell_type": "code",
   "execution_count": null,
   "id": "13",
   "metadata": {},
   "outputs": [],
   "source": [
    "d_psal = 1 / (1 + cc_psal.mahalanobis(psal.T))\n",
    "plot_md_map(d_psal, \"Salinity\")"
   ]
  },
  {
   "cell_type": "markdown",
   "id": "14",
   "metadata": {},
   "source": [
    "Below we plot the locations of the extremely shallow points, and plot the extremely shallow profiles."
   ]
  },
  {
   "cell_type": "code",
   "execution_count": null,
   "id": "15",
   "metadata": {},
   "outputs": [],
   "source": [
    "def plot_md_outlying(X, dp, title):\n",
    "    plt.clf()\n",
    "    plt.figure(figsize=(8, 7.25))\n",
    "    ax = plt.axes([0.05, 0.05, 0.92, 0.88], projection=ccrs.PlateCarree(central_longitude=180))\n",
    "    ax.coastlines()\n",
    "    ax.set_extent([115, 290, -70, 60])\n",
    "\n",
    "    tt = [0.01, 0.001]\n",
    "    \n",
    "    qq = np.argsort(np.argsort(dp)) / len(dp)\n",
    "    for t in tt:\n",
    "        ii = np.flatnonzero(qq <= t)\n",
    "        plt.scatter(lon[ii], lat[ii], s=8, transform=ccrs.Geodetic(), label=str(t))\n",
    "\n",
    "    ha,lb = plt.gca().get_legend_handles_labels()\n",
    "    leg = plt.figlegend(ha, lb, loc=\"center right\", handletextpad=0.01)\n",
    "    leg.draw_frame(False)\n",
    "\n",
    "    plt.title(title)\n",
    "    plt.show()\n",
    "    \n",
    "    for t in tt:\n",
    "        plt.clf()\n",
    "        plt.grid(True)\n",
    "        ii = np.flatnonzero(qq <= t)\n",
    "        for i in ii:\n",
    "            plt.plot(pressure, X[:, i], \"-\", color=\"grey\", alpha=0.2)\n",
    "        plt.plot(pressure, X.mean(1), \"-\", color=\"blue\")\n",
    "        plt.xlabel(\"Pressure\")\n",
    "        plt.ylabel(title)\n",
    "        plt.show()"
   ]
  },
  {
   "cell_type": "code",
   "execution_count": null,
   "id": "16",
   "metadata": {},
   "outputs": [],
   "source": [
    "plot_md_outlying(temp, d_temp, \"Temperature\")"
   ]
  },
  {
   "cell_type": "code",
   "execution_count": null,
   "id": "17",
   "metadata": {},
   "outputs": [],
   "source": [
    "plot_md_outlying(psal, d_psal, \"Salinity\")"
   ]
  }
 ],
 "metadata": {
  "jupytext": {
   "cell_metadata_filter": "-all",
   "main_language": "python",
   "notebook_metadata_filter": "-all"
  },
  "kernelspec": {
   "display_name": "Python 3 (ipykernel)",
   "language": "python",
   "name": "python3"
  },
  "language_info": {
   "codemirror_mode": {
    "name": "ipython",
    "version": 3
   },
   "file_extension": ".py",
   "mimetype": "text/x-python",
   "name": "python",
   "nbconvert_exporter": "python",
   "pygments_lexer": "ipython3",
   "version": "3.11.9"
  }
 },
 "nbformat": 4,
 "nbformat_minor": 5
}
