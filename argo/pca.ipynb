{
 "cells": [
  {
   "cell_type": "markdown",
   "id": "0",
   "metadata": {},
   "source": [
    "# Dimension reduction analyses of the ARGO data\n",
    "\n",
    "The Argo data consist of paired observations of temperature and salinity, measured simultaneously at the same location at a series of depths beneath the ocean surface.  Each observation is comprised of two 100-dimensional vectors, one of temperature and one of salinity, each viewed as a function of pressure.  These vectors may be referred to as \"profiles\".  Here we use dimension reduction methods including Principal Components Analysis (PCA), Canonical Correlation Analysis (CCA), and Sliced Inverse Regression (SIR) to better understand these profiles."
   ]
  },
  {
   "cell_type": "code",
   "execution_count": null,
   "id": "1",
   "metadata": {},
   "outputs": [],
   "source": [
    "import numpy as np\n",
    "import pandas as pd\n",
    "import matplotlib.pyplot as plt\n",
    "import cartopy.crs as ccrs\n",
    "from scipy.interpolate import interp1d\n",
    "from statsmodels.nonparametric.smoothers_lowess import lowess\n",
    "import statsmodels.api as sm\n",
    "from statsmodels.regression.dimred import SIR\n",
    "from read import *"
   ]
  },
  {
   "cell_type": "markdown",
   "id": "2",
   "metadata": {},
   "source": [
    "The observations (profiles) are in the columns and the pressure levels are in the rows:"
   ]
  },
  {
   "cell_type": "code",
   "execution_count": null,
   "id": "3",
   "metadata": {},
   "outputs": [],
   "source": [
    "print(temp.shape)\n",
    "print(psal.shape)"
   ]
  },
  {
   "cell_type": "markdown",
   "id": "4",
   "metadata": {},
   "source": [
    "Construct a variable called 'day' that is the day within the year (counting from January 1st)."
   ]
  },
  {
   "cell_type": "code",
   "execution_count": null,
   "id": "5",
   "metadata": {},
   "outputs": [],
   "source": [
    "date = pd.to_datetime(date)\n",
    "day = np.asarray(date.dayofyear)"
   ]
  },
  {
   "cell_type": "markdown",
   "id": "6",
   "metadata": {},
   "source": [
    "Get the [circular mean](https://en.wikipedia.org/wiki/Circular_mean) of all longitude values.  This isn't related to dimension reduction but is useful to know for perspective."
   ]
  },
  {
   "cell_type": "code",
   "execution_count": null,
   "id": "7",
   "metadata": {},
   "outputs": [],
   "source": [
    "lon_sin = np.sin(2*np.pi*lon/360)\n",
    "lon_cos = np.cos(2*np.pi*lon/360)\n",
    "cmean_lon = np.arctan2(lon_sin.mean(), lon_cos.mean()) * 360 / (2*np.pi)\n",
    "cmean_lon"
   ]
  },
  {
   "cell_type": "markdown",
   "id": "8",
   "metadata": {},
   "source": [
    "Translate the longitude values so that the Pacific ocean doesn't wrap around the origin."
   ]
  },
  {
   "cell_type": "code",
   "execution_count": null,
   "id": "9",
   "metadata": {},
   "outputs": [],
   "source": [
    "lonx = (lon + 60) % 360"
   ]
  },
  {
   "cell_type": "markdown",
   "id": "10",
   "metadata": {},
   "source": [
    "Create a matrix of observed variables that describe the location and time at which each profile was obtained."
   ]
  },
  {
   "cell_type": "code",
   "execution_count": null,
   "id": "11",
   "metadata": {},
   "outputs": [],
   "source": [
    "n = len(lat)\n",
    "Y = np.zeros((n, 4))\n",
    "Y[:, 0] = lat\n",
    "Y[:, 1] = lon  # raw longitude\n",
    "Y[:, 2] = lonx # translated longitude\n",
    "Y[:, 3] = day\n",
    "Y.shape"
   ]
  },
  {
   "cell_type": "markdown",
   "id": "12",
   "metadata": {},
   "source": [
    "Plot the profile locations in the actual latitude/longitude coordinates.  Longitude 0 is the prime meridian (passes through England)."
   ]
  },
  {
   "cell_type": "code",
   "execution_count": null,
   "id": "13",
   "metadata": {
    "lines_to_next_cell": 1
   },
   "outputs": [],
   "source": [
    "plt.clf()\n",
    "plt.grid(True)\n",
    "plt.plot(lon, lat, \"o\", rasterized=True, alpha=0.1)\n",
    "plt.xlabel(\"Longitude\", size=15)\n",
    "plt.ylabel(\"Latitude\", size=15)\n",
    "plt.title(\"Float positions\")"
   ]
  },
  {
   "cell_type": "markdown",
   "id": "14",
   "metadata": {},
   "source": [
    "Plot the profile locations using translated longitudes."
   ]
  },
  {
   "cell_type": "code",
   "execution_count": null,
   "id": "15",
   "metadata": {},
   "outputs": [],
   "source": [
    "plt.clf()\n",
    "plt.grid(True)\n",
    "plt.plot(lonx, lat, \"o\", rasterized=True, alpha=0.1)\n",
    "plt.xlabel(\"Longitude (translated)\", size=15)\n",
    "plt.ylabel(\"Latitude\", size=15)\n",
    "plt.title(\"Float positions\")"
   ]
  },
  {
   "cell_type": "code",
   "execution_count": null,
   "id": "16",
   "metadata": {
    "lines_to_next_cell": 1
   },
   "outputs": [],
   "source": [
    "def get_pcs(x):\n",
    "    \"\"\"\n",
    "    Get the principal components of the data in 'x', treating the rows as the\n",
    "    variables and the columns as the observations.\n",
    "    \"\"\"\n",
    "    xc = x.copy()\n",
    "    xm = x.mean(1)\n",
    "    xc -= xm[:, None]\n",
    "    cc = np.cov(xc)\n",
    "    pcw, pcv = np.linalg.eigh(cc)\n",
    "\n",
    "    # Reorder the PC's so that the dominant factors\n",
    "    # are first.\n",
    "    ii = np.argsort(pcw)[::-1]\n",
    "    pcw = pcw[ii]\n",
    "    pcv = pcv[:, ii]\n",
    "\n",
    "    # For interpretability flip the PC's that are\n",
    "    # mostly negative.\n",
    "    for j in range(pcv.shape[1]):\n",
    "        if (pcv[:, j] < 0).sum() > (pcv[:, j] >= 0).sum():\n",
    "            pcv[:, j] *= -1\n",
    "\n",
    "    # Get the PC scores\n",
    "    scores = np.dot(xc.T, pcv[:, 0:5])\n",
    "\n",
    "    return xm, pcw, pcv, scores"
   ]
  },
  {
   "cell_type": "code",
   "execution_count": null,
   "id": "17",
   "metadata": {
    "lines_to_next_cell": 1
   },
   "outputs": [],
   "source": [
    "def pcplot(j, mean, pcv, scores, label):\n",
    "    \"\"\"\n",
    "    Generate some plots that aid in interpreting the j^th PC factor.\n",
    "    \"\"\"\n",
    "    # Plot the PC loadings\n",
    "    plt.clf()\n",
    "    plt.grid(True)\n",
    "    plt.plot(pressure, pcv[:, j])\n",
    "    plt.gca().set_xlabel(\"Pressure\", size=15)\n",
    "    plt.gca().set_ylabel(\"%s PC %d loading\" % (label.title(), j + 1), size=15)\n",
    "    if pcv[:, j].min() > 0:\n",
    "        plt.gca().set_ylim(ymin=0)\n",
    "    plt.show()\n",
    "\n",
    "    # Plot the mean +/- 1 SD of the loading pattern\n",
    "    plt.clf()\n",
    "    plt.title(label.title())\n",
    "    plt.grid(True)\n",
    "    s = scores[:, j].std()\n",
    "    for f in [-1, 0, 1]:\n",
    "        plt.plot(pressure, mean + f*s*pcv[:, j], color={-1: \"blue\", 0: \"black\", 1: \"red\"}[f])\n",
    "    plt.gca().set_xlabel(\"Pressure (Dbar)\", size=15)\n",
    "    plt.gca().set_ylabel(\"Mean %s +/- PC %d loading\" % (label, j + 1), size=15)\n",
    "    plt.show()\n",
    "\n",
    "    # Plot the conditional mean PC score against an observed variable,\n",
    "    # showing the conditional mean plus/minus one mean absolute deviation.\n",
    "    fn = [\"Latitude\", \"Longitude\", \"Longitude\", \"Day\"]\n",
    "    for k in [0,1,3]:\n",
    "        xx = np.linspace(Y[:, k].min(), Y[:, k].max(), 100)\n",
    "        m = lowess(scores[:, j], Y[:, k], delta=0.01*np.ptp(Y[:, k]))\n",
    "        resid = scores[:, j] - m[:, 1]\n",
    "        r = lowess(np.abs(resid), Y[:, k], delta=0.01*np.ptp(Y[:, k]))\n",
    "        yy = interp1d(m[:, 0], m[:, 1])(xx)\n",
    "        yr = interp1d(r[:, 0], r[:, 1])(xx)\n",
    "        f = 2\n",
    "        ymx = (yy + f*yr).max()\n",
    "        ymn = (yy - f*yr).min()\n",
    "        plt.clf()\n",
    "        plt.grid(True)\n",
    "        plt.plot(xx, yy, \"-\", color=\"red\")\n",
    "        plt.plot(xx, yy-f*yr, \"-\", color=\"grey\")\n",
    "        plt.plot(xx, yy+f*yr, \"-\", color=\"grey\")\n",
    "        plt.gca().set_ylim([ymn, ymx])\n",
    "        plt.gca().set_xlabel(fn[k], size=15)\n",
    "        plt.gca().set_ylabel(\"%s PC %d score\" % (label.title(), j + 1), size=15)\n",
    "        plt.show()"
   ]
  },
  {
   "cell_type": "markdown",
   "id": "18",
   "metadata": {},
   "source": [
    "Calculate the principal components for temperature and salinity."
   ]
  },
  {
   "cell_type": "code",
   "execution_count": null,
   "id": "19",
   "metadata": {},
   "outputs": [],
   "source": [
    "tempmean, tempw, tempv, tempscores = get_pcs(temp)\n",
    "psalmean, psalw, psalv, psalscores = get_pcs(psal)"
   ]
  },
  {
   "cell_type": "markdown",
   "id": "20",
   "metadata": {},
   "source": [
    "Plot the mean profiles for temperature and salinity."
   ]
  },
  {
   "cell_type": "code",
   "execution_count": null,
   "id": "21",
   "metadata": {},
   "outputs": [],
   "source": [
    "for ti,da in zip([\"Temperature\", \"Salinity\"], [tempmean, psalmean]):\n",
    "    plt.clf()\n",
    "    plt.grid(True)\n",
    "    plt.plot(pressure, da)\n",
    "    plt.gca().set_xlabel(\"Pressure (dBar)\", size=15)\n",
    "    plt.gca().set_ylabel(\"Mean %s\" % ti, size=15)\n",
    "    plt.show()"
   ]
  },
  {
   "cell_type": "markdown",
   "id": "22",
   "metadata": {},
   "source": [
    "Generate a sequence of plots that help us understand the temperature profiles through PC analysis."
   ]
  },
  {
   "cell_type": "code",
   "execution_count": null,
   "id": "23",
   "metadata": {},
   "outputs": [],
   "source": [
    "for j in [0, 1, 2]:\n",
    "    pcplot(j, tempmean, tempv, tempscores, \"temperature\")"
   ]
  },
  {
   "cell_type": "markdown",
   "id": "24",
   "metadata": {},
   "source": [
    "Generate a sequence of plots that help us understand the salinity data through PC analysis."
   ]
  },
  {
   "cell_type": "code",
   "execution_count": null,
   "id": "25",
   "metadata": {},
   "outputs": [],
   "source": [
    "for j in [0, 1, 2]:\n",
    "    pcplot(j, psalmean, psalv, psalscores, \"salinity\")"
   ]
  },
  {
   "cell_type": "markdown",
   "id": "26",
   "metadata": {},
   "source": [
    "Another way to understand the meaning of the PCA results is to identify the geographic locations where profiles score at the high end or the low end of the distribution of scores for each PC.  These plots are shown below."
   ]
  },
  {
   "cell_type": "code",
   "execution_count": null,
   "id": "27",
   "metadata": {},
   "outputs": [],
   "source": [
    "def plot_pc_map(j, tempscores, Y, title):\n",
    "    plt.clf()\n",
    "    plt.figure(figsize=(9, 7.25))\n",
    "    ax = plt.axes([0.05, 0.05, 0.84, 0.88], projection=ccrs.PlateCarree(central_longitude=180))\n",
    "    ax.coastlines()\n",
    "    ax.set_extent([115, 290, -70, 60])\n",
    "\n",
    "    jj = np.flatnonzero(tempscores[:, j] >= np.quantile(tempscores[:, j], 0.9))\n",
    "    plt.scatter(Y[jj, 1], Y[jj, 0], s=8, label=\"Top 10%\", color=\"red\", transform=ccrs.Geodetic(), rasterized=True)\n",
    "    jj = np.flatnonzero(tempscores[:, j] <= np.quantile(tempscores[:, j], 0.1))\n",
    "    plt.scatter(Y[jj, 1], Y[jj, 0], s=8, label=\"Bottom 10%\", color=\"blue\", transform=ccrs.Geodetic(), rasterized=True)\n",
    "\n",
    "    ha,lb = plt.gca().get_legend_handles_labels()\n",
    "    leg = plt.figlegend(ha, lb, loc=\"center right\")\n",
    "    leg.draw_frame(False)\n",
    "\n",
    "    plt.title(\"%s (component %d)\" % (title, j + 1))\n",
    "    plt.show()"
   ]
  },
  {
   "cell_type": "code",
   "execution_count": null,
   "id": "28",
   "metadata": {},
   "outputs": [],
   "source": [
    "for j in range(3):\n",
    "    plot_pc_map(j, tempscores, Y, \"Temperature\")"
   ]
  },
  {
   "cell_type": "code",
   "execution_count": null,
   "id": "29",
   "metadata": {},
   "outputs": [],
   "source": [
    "for j in range(3):\n",
    "    plot_pc_map(j, psalscores, Y, \"Salinity\")"
   ]
  },
  {
   "cell_type": "markdown",
   "id": "30",
   "metadata": {},
   "source": [
    "## Canonical Correlation Analysis\n",
    "\n",
    "CCA looks specifically at how temperature and salinity are correlated.  It identifies linear projections $a^\\prime Y$ and $b^\\prime Z$ of the temperature data ($Y$) and salinity data ($Z$) that are maximally correlated."
   ]
  },
  {
   "cell_type": "code",
   "execution_count": null,
   "id": "31",
   "metadata": {},
   "outputs": [],
   "source": [
    "def my_cca(X, Y):\n",
    "    \"\"\"\n",
    "    CCA that agrees with R.  Returns loadings for X (u), loadings for Y (v), and eigenvalues (s).  The arguments\n",
    "    have observations in their rows and variables in their columns.\n",
    "    \"\"\"\n",
    "    n = X.shape[0]\n",
    "    X = X - X.mean(0)\n",
    "    Y = Y - Y.mean(0)\n",
    "    Sx = np.dot(X.T, X) / n\n",
    "    Sy = np.dot(Y.T, Y) / n\n",
    "    Sxy = np.dot(X.T, Y) / n\n",
    "    Rx = np.linalg.cholesky(Sx)\n",
    "    Ry = np.linalg.cholesky(Sy)\n",
    "    M = np.linalg.solve(Rx, Sxy)\n",
    "    M = np.linalg.solve(Ry, M.T).T\n",
    "    u, s, vt = np.linalg.svd(M)\n",
    "    v = vt.T\n",
    "    u = np.linalg.solve(Rx.T, u)\n",
    "    v = np.linalg.solve(Ry.T, v)\n",
    "    return u, v, s"
   ]
  },
  {
   "cell_type": "markdown",
   "id": "32",
   "metadata": {},
   "source": [
    "We can try using standard CCA on the full 100-dimensional data.  But due to the high dimensionality and consequent overfitting, the results make little sense."
   ]
  },
  {
   "cell_type": "code",
   "execution_count": null,
   "id": "33",
   "metadata": {
    "lines_to_next_cell": 1
   },
   "outputs": [],
   "source": [
    "XX = temp.T.copy()\n",
    "XX -= XX.mean(0)\n",
    "YY = psal.T.copy()\n",
    "YY -= YY.mean(0)\n",
    "xc, yc, r = my_cca(XX, YY)\n",
    "plt.clf()\n",
    "plt.grid(True)\n",
    "plt.plot(r)\n",
    "plt.ylabel(\"Canonical correlations\")"
   ]
  },
  {
   "cell_type": "code",
   "execution_count": null,
   "id": "34",
   "metadata": {},
   "outputs": [],
   "source": [
    "plt.grid(True)\n",
    "plt.plot(pressure, xc[:,0], \"-\")\n",
    "plt.xlabel(\"Pressure\")\n",
    "plt.ylabel(\"Temperature loading\")"
   ]
  },
  {
   "cell_type": "code",
   "execution_count": null,
   "id": "35",
   "metadata": {},
   "outputs": [],
   "source": [
    "plt.grid(True)\n",
    "plt.plot(pressure, yc[:,0], \"-\")\n",
    "plt.xlabel(\"Pressure\")\n",
    "plt.ylabel(\"Salinity loading\")"
   ]
  },
  {
   "cell_type": "markdown",
   "id": "36",
   "metadata": {},
   "source": [
    "As in any factor analysis, basis directions are only identified up to sign.  To aid in interpretation, the function below flips the loadings so that the majority of the loadings are positive."
   ]
  },
  {
   "cell_type": "code",
   "execution_count": null,
   "id": "37",
   "metadata": {
    "lines_to_next_cell": 1
   },
   "outputs": [],
   "source": [
    "# Flip the CCA components as needed for interpretability\n",
    "def flip(xc, yc):\n",
    "    for j in range(xc.shape[1]):\n",
    "        if (xc[:, j] > 0).mean() + (yc[:, j] > 0).mean() < 1:\n",
    "            xc[:, j] *= -1\n",
    "            yc[:, j] *= -1\n",
    "    return xc, yc"
   ]
  },
  {
   "cell_type": "markdown",
   "id": "38",
   "metadata": {},
   "source": [
    "To control the variance of working in high dimensions, we combine PCA and CCA.  To achieve this, we first reduce the temperature and salinity data by projecting to PCs, and then fit CCA to the projected data.  Finally, we map the loadings back to the original coordinates.  This is very similar to PCR but applied to CCA not to linear regression."
   ]
  },
  {
   "cell_type": "code",
   "execution_count": null,
   "id": "39",
   "metadata": {},
   "outputs": [],
   "source": [
    "# The columns of ux and uy are the PC scores of the temperature and salinity data.\n",
    "ux,sx,vtx = np.linalg.svd(XX, 0)\n",
    "uy,sy,vty = np.linalg.svd(YY, 0)"
   ]
  },
  {
   "cell_type": "code",
   "execution_count": null,
   "id": "40",
   "metadata": {},
   "outputs": [],
   "source": [
    "for q in [1, 2, 5, 10, 20, 50]:\n",
    "\n",
    "    # Do CCA after projecting the profiles to the top q PC's.\n",
    "    xc, yc, r = my_cca(ux[:, 0:q], uy[:, 0:q])\n",
    "    \n",
    "    # Map the loadings back to the original coordinates\n",
    "    xl1 = np.dot(vtx.T[:, 0:q], np.linalg.solve(np.diag(sx[0:q]), xc))\n",
    "    yl1 = np.dot(vty.T[:, 0:q], np.linalg.solve(np.diag(sy[0:q]), yc))\n",
    "    xl1, yl1 = flip(xl1, yl1)\n",
    "\n",
    "    # The canonical correlations\n",
    "    print(\"Canonical correlations (q={} PCs): {}\".format(q, r))\n",
    "    print(np.corrcoef(np.dot(XX, xl1[:, 0]), np.dot(YY, yl1[:, 0]))[0,1])\n",
    "\n",
    "    # Plot the temperature loadings\n",
    "    plt.clf()\n",
    "    plt.axes([0.15, 0.1, 0.8, 0.8])\n",
    "    plt.grid(True)\n",
    "    plt.title(\"CCA/PCA using %d principal components, r=%.2f\" % (q, r[0]))\n",
    "    plt.plot(pressure, xl1[:, 0])\n",
    "    if xl1[:, 0].min() > 0:\n",
    "        plt.ylim(ymin=0)\n",
    "    plt.xlabel(\"Pressure (dBar)\", size=15)\n",
    "    plt.ylabel(\"Temperature loading\", size=15)\n",
    "    plt.show()\n",
    "\n",
    "    # Plot the salinity loadings\n",
    "    plt.clf()\n",
    "    plt.axes([0.15, 0.1, 0.8, 0.8])\n",
    "    plt.title(\"CCA/PCA using %d principal components, r=%.2f\" % (q, r[0]))\n",
    "    plt.grid(True)\n",
    "    plt.plot(pressure, yl1[:, 0])\n",
    "    if yl1[:, 0].min() >= 0:\n",
    "        plt.ylim(ymin=0)\n",
    "    plt.xlabel(\"Pressure (dBar)\", size=15)\n",
    "    plt.ylabel(\"Salinity loading\", size=15)\n",
    "    plt.show()"
   ]
  },
  {
   "cell_type": "markdown",
   "id": "41",
   "metadata": {},
   "source": [
    "Similar to what we did with PCA, we can plot the locations where profiles score at the high or low end of the range of scores.  These plots reveal that in a region of the south Pacific from Australia to Fiji, the temperatures are uniformly warmer and salinity is higher, whereas in the far northern/sourthern parts of the Pacific ocean, the temperatures are lower and salinity is lower."
   ]
  },
  {
   "cell_type": "code",
   "execution_count": null,
   "id": "42",
   "metadata": {},
   "outputs": [],
   "source": [
    "def plot_cc_map(q=2):\n",
    "    \n",
    "    # Do CCA after projecting the profiles to the top q PC's.\n",
    "    xc, yc, r = my_cca(ux[:, 0:q], uy[:, 0:q])\n",
    "\n",
    "    plt.clf()\n",
    "    plt.figure(figsize=(9, 7.25))\n",
    "    ax = plt.axes([0.05, 0.05, 0.84, 0.88], projection=ccrs.PlateCarree(central_longitude=180))\n",
    "    ax.coastlines()\n",
    "    ax.set_extent([115, 290, -70, 60])\n",
    "\n",
    "    xx = np.dot(ux[:, 0:q], xc)\n",
    "    yy = np.dot(uy[:, 0:q], yc)\n",
    "    j1 = xx[:, 0] >= np.quantile(xx[:, 0], 0.9)\n",
    "    j2 = yy[:, 0] >= np.quantile(yy[:, 0], 0.9)\n",
    "    jj = np.flatnonzero(j1 & j2)\n",
    " \n",
    "    k1 = xx[:, 0] <= np.quantile(xx[:, 0], 0.1)\n",
    "    k2 = yy[:, 0] <= np.quantile(yy[:, 0], 0.1)\n",
    "    kk = np.flatnonzero(k1 & k2)\n",
    "    \n",
    "    plt.scatter(Y[jj, 1], Y[jj, 0], s=8, label=\"Top 10%\", color=\"red\", transform=ccrs.Geodetic(), rasterized=True)\n",
    "    plt.scatter(Y[kk, 1], Y[kk, 0], s=8, label=\"Bottom 10%\", color=\"blue\", transform=ccrs.Geodetic(), rasterized=True)\n",
    "\n",
    "    ha,lb = plt.gca().get_legend_handles_labels()\n",
    "    leg = plt.figlegend(ha, lb, loc=\"center right\")\n",
    "    leg.draw_frame(False)\n",
    "    plt.show()\n",
    "    \n",
    "    # Plot mean temperature profile +/- 1SD CC factor loading\n",
    "    plt.clf()\n",
    "    plt.grid(True)\n",
    "    plt.plot(pressure, tempmean, \"-\", color=\"black\")\n",
    "    xl1 = np.dot(vtx.T[:, 0:q], np.linalg.solve(np.diag(sx[0:q]), xc))\n",
    "    yl1 = np.dot(vty.T[:, 0:q], np.linalg.solve(np.diag(sy[0:q]), yc))\n",
    "    xl1, yl1 = flip(xl1, yl1)\n",
    "    xs = np.dot(XX, xl1) / (xl1**2).sum(0) # Regression estimate of the scores\n",
    "    f = np.std(xs[:, 0])\n",
    "    plt.plot(pressure, tempmean + f*xl1[:, 0], color=\"red\")    \n",
    "    plt.plot(pressure, tempmean - f*xl1[:, 0], color=\"blue\")    \n",
    "    plt.xlabel(\"Pressure (Dbar)\")\n",
    "    plt.ylabel(\"Temperature\")\n",
    "    plt.show()\n",
    "\n",
    "    # Plot mean salinity profile +/- 1SD CC factor loading\n",
    "    plt.clf()\n",
    "    plt.grid(True)\n",
    "    plt.plot(pressure, psalmean, \"-\", color=\"black\")\n",
    "    ys = np.dot(YY, yl1) / (yl1**2).sum(0) # Regression estimate of the scores\n",
    "    f = np.std(ys[:, 0])\n",
    "    plt.plot(pressure, psalmean + f*xl1[:, 0], color=\"red\")    \n",
    "    plt.plot(pressure, psalmean - f*xl1[:, 0], color=\"blue\")    \n",
    "    plt.xlabel(\"Pressure (Dbar)\")\n",
    "    plt.ylabel(\"Salinity\")\n",
    "    plt.show()\n",
    "\n",
    "plot_cc_map()"
   ]
  },
  {
   "cell_type": "markdown",
   "id": "43",
   "metadata": {},
   "source": [
    "## Dimension reduction regression\n",
    "\n",
    "Below we use Sliced Inverse Regression to predict latitude from the first q principal components of the temperature data.  This shows us how temperature profiles differ with latitude."
   ]
  },
  {
   "cell_type": "code",
   "execution_count": null,
   "id": "44",
   "metadata": {},
   "outputs": [],
   "source": [
    "q = 3 # Project to this number of PCs\n",
    "m = SIR(lat, ux[:, 0:q])\n",
    "r = m.fit()\n",
    "cf = np.dot(vtx.T[:, 0:q], np.linalg.solve(np.diag(sx[0:q]), r.params))"
   ]
  },
  {
   "cell_type": "markdown",
   "id": "45",
   "metadata": {},
   "source": [
    "Plot the SIR loadings."
   ]
  },
  {
   "cell_type": "code",
   "execution_count": null,
   "id": "46",
   "metadata": {},
   "outputs": [],
   "source": [
    "plt.clf()\n",
    "plt.grid(True)\n",
    "for j in range(3):\n",
    "    plt.plot(pressure, cf[:, j], \"-\", label=\"%d\" % (j + 1))\n",
    "ha, lb = plt.gca().get_legend_handles_labels()\n",
    "leg = plt.figlegend(ha, lb, loc=\"center right\")\n",
    "leg.draw_frame(False)\n",
    "plt.xlabel(\"Pressure\", size=15)\n",
    "plt.ylabel(\"SIR loading\", size=15)"
   ]
  },
  {
   "cell_type": "markdown",
   "id": "47",
   "metadata": {},
   "source": [
    "Plot the SIR scores against latitude, and smooth to estimate their conditional means."
   ]
  },
  {
   "cell_type": "code",
   "execution_count": null,
   "id": "48",
   "metadata": {},
   "outputs": [],
   "source": [
    "scores = np.dot(XX, cf)\n",
    "for j in range(3):\n",
    "    plt.clf()\n",
    "    plt.grid(True)\n",
    "    plt.plot(lat, scores[:, j], \"o\", color=\"grey\", alpha=0.3, rasterized=True)\n",
    "\n",
    "    # Use lowess to estimate the conditional mean of the scores given latitude.\n",
    "    # Lowess is slow and doesn't need all the data to give an accurate estimate.\n",
    "    ii = np.random.choice(np.arange(scores.shape[0]), 2000, replace=False)\n",
    "    m = lowess(scores[ii, j], lat[ii], frac=0.2)\n",
    "    plt.plot(m[:, 0], m[:, 1], \"-\", color=\"orange\")\n",
    "\n",
    "    plt.xlabel(\"Latitude\", size=15)\n",
    "    plt.ylabel(\"Component %d SIR score\" % (j + 1), size=15)\n",
    "    plt.show()"
   ]
  }
 ],
 "metadata": {
  "jupytext": {
   "cell_metadata_filter": "-all",
   "main_language": "python",
   "notebook_metadata_filter": "-all"
  },
  "kernelspec": {
   "display_name": "Python 3 (ipykernel)",
   "language": "python",
   "name": "python3"
  },
  "language_info": {
   "codemirror_mode": {
    "name": "ipython",
    "version": 3
   },
   "file_extension": ".py",
   "mimetype": "text/x-python",
   "name": "python",
   "nbconvert_exporter": "python",
   "pygments_lexer": "ipython3",
   "version": "3.10.9"
  }
 },
 "nbformat": 4,
 "nbformat_minor": 5
}
